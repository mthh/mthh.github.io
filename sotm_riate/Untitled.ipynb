{
 "cells": [
  {
   "cell_type": "raw",
   "metadata": {
    "slideshow": {
     "slide_type": "-"
    }
   },
   "source": [
    "<link rel=\"stylesheet\" href=\"reveal.js/css/theme/solarized_mod.css\" id=\"theme\">"
   ]
  },
  {
   "cell_type": "markdown",
   "metadata": {
    "slideshow": {
     "slide_type": "slide"
    }
   },
   "source": [
    "## Example d'utilisations dans une unité de service en aménagement du territoire\n",
    "\n",
    "\n",
    "<img style=\"width:70px;margin-top:30px;font-weight:bold;\" src=\"images/riate.png\">\n",
    "  \n",
    "  \n",
    "<p style=\"margin-top:30px;float:left;font-weight:bold;\">SOTM 2017 - Avignon 02/06/2107</p><p style=\"margin-left:20px;margin-top:30px;float:right;font-weight:bold;\">Matthieu Viry </p>"
   ]
  },
  {
   "cell_type": "markdown",
   "metadata": {
    "slideshow": {
     "slide_type": "slide"
    }
   },
   "source": [
    "<script type=\"text/template\">\n",
    "\t<!-- .slide: data-background=\"#ff0000\" --></script>\n",
    "## UMS 2414 RIATE ?"
   ]
  },
  {
   "cell_type": "markdown",
   "metadata": {
    "slideshow": {
     "slide_type": "subslide"
    }
   },
   "source": [
    "<img src=\"images/riate_blue_red.png\">\n",
    "\n",
    "### Réseau Interdisciplinaire de l'Aménagement du Territoire Européen et de ses voisinages\n",
    "\n"
   ]
  },
  {
   "cell_type": "markdown",
   "metadata": {
    "slideshow": {
     "slide_type": "fragment"
    }
   },
   "source": [
    "- **Unité Mixte de Service** - 10 personnes dont 4 ingénieurs en cartographie, géomatique et bases de données."
   ]
  },
  {
   "cell_type": "markdown",
   "metadata": {
    "slideshow": {
     "slide_type": "fragment"
    }
   },
   "source": [
    "- Triple tutelle : **CNRS**, **CGET** (Commissariat Général à l'Égalité des Territoires), **Université Paris 7 Diderot**.\n",
    "<div style=\"float:right;\">\n",
    "<img width=\"40px\" src=\"images/logo_cget_texte.png\"/>\n",
    "<img width=\"40px\" src=\"images/logo_cnrs_transparent.png\"/>\n",
    "<img width=\"40px\" src=\"images/logo_upd7.png\"/>\n",
    "</div>"
   ]
  },
  {
   "cell_type": "markdown",
   "metadata": {
    "slideshow": {
     "slide_type": "subslide"
    }
   },
   "source": [
    "- Participation à des études, notamment sur l'aménagement du territoire en Europe"
   ]
  },
  {
   "cell_type": "markdown",
   "metadata": {
    "slideshow": {
     "slide_type": "fragment"
    }
   },
   "source": [
    "- Développement d'outils et de méthodes pour l'analyse territoriale"
   ]
  },
  {
   "cell_type": "markdown",
   "metadata": {
    "slideshow": {
     "slide_type": "fragment"
    }
   },
   "source": [
    "__*Package R*__ : [cartography](https://github.com/Groupe-ElementR/cartography), [SpatialPosition](https://github.com/Groupe-ElementR/SpatialPosition), [interface R-osrm](https://github.com/rCarto/osrm), etc.  \n",
    "__*Visualisation de données*__ : [FIT (Functional Indicator computation Tools)](http://fit.espon.eu/), Geomedia Event Explorer, etc.  \n",
    "__*Cartographie thématique*__ : [♠ Magrit ♠](http://magrit.cnrs.fr)"
   ]
  },
  {
   "cell_type": "markdown",
   "metadata": {
    "slideshow": {
     "slide_type": "subslide"
    }
   },
   "source": [
    "## 1er example d'utilisation"
   ]
  },
  {
   "cell_type": "markdown",
   "metadata": {
    "slideshow": {
     "slide_type": "subslide"
    }
   },
   "source": [
    "*Le cadre*   \n",
    "<p style=\"text-align:center;\">\n",
    "    Étude visant à <b>établir une typologie socio-économique des espaces transfrontaliers européens</b>\n",
    "</p>"
   ]
  },
  {
   "cell_type": "markdown",
   "metadata": {
    "slideshow": {
     "slide_type": "subslide"
    }
   },
   "source": [
    "*Le coeur de l'étude*\n",
    "  \n",
    "<p style=\"text-align:center;\">\n",
    "    Définir une <b>maille territoriale</b> adaptée pour l’<b>observation transfrontalière</b>.<br>\n",
    "    Définir l'<b>emprise de la zone d'étude</b>.<br>\n",
    "    <b>Typologie socio-économique</b> des régions concernées.<br>\n",
    "    <b>Typologie des discontinuités frontalières</b> (typologie des potentiels de coopération).<br>\n",
    "    <b>Évolution</b> 2000-2012 des <b>potentiels de coopération transfrontalière</b>.<br>\n",
    "</p>"
   ]
  },
  {
   "cell_type": "markdown",
   "metadata": {
    "slideshow": {
     "slide_type": "subslide"
    }
   },
   "source": [
    "*Bonus*"
   ]
  },
  {
   "cell_type": "markdown",
   "metadata": {
    "slideshow": {
     "slide_type": "fragment"
    }
   },
   "source": [
    "<p style=\"text-align:center;\">Tenter de caractériser l'<b>accessibilité</b> au sein de l'espace d'étude</p>"
   ]
  },
  {
   "cell_type": "markdown",
   "metadata": {
    "slideshow": {
     "slide_type": "fragment"
    }
   },
   "source": [
    "*L'idée ?*"
   ]
  },
  {
   "cell_type": "markdown",
   "metadata": {
    "slideshow": {
     "slide_type": "fragment"
    }
   },
   "source": [
    "<p style=\"text-align:center;\">Utiliser <b>OpenStreetMap</b> !</p>"
   ]
  },
  {
   "cell_type": "markdown",
   "metadata": {
    "slideshow": {
     "slide_type": "slide"
    }
   },
   "source": [
    "### Caractérisation de l'accessibilité transfrontalière par les \"points de passage\""
   ]
  },
  {
   "cell_type": "markdown",
   "metadata": {
    "slideshow": {
     "slide_type": "subslide"
    }
   },
   "source": [
    "### Méthodologie :\n",
    "\n",
    "- Récupération des géométries OSM correspondants aux géométries des entités de notre espace d'étude.\n",
    "- Extraction des réseaux routiers et ferrés."
   ]
  },
  {
   "cell_type": "markdown",
   "metadata": {
    "slideshow": {
     "slide_type": "fragment"
    }
   },
   "source": [
    "**Réseaux routier :**  \n",
    "- Transformation de l'information de hiérarchie du réseau routiers (highway, primary, etc.) en nombre de voies (pour avoir une unité comparable)\n",
    "- Calcul d'une densité de points de passage pour chaque \"tronçon transfrontalier\" (frontière entre régions voisines)."
   ]
  },
  {
   "cell_type": "markdown",
   "metadata": {
    "slideshow": {
     "slide_type": "fragment"
    }
   },
   "source": [
    "**Réseau ferré :**  \n",
    "- Conservation de l'information de hiérarchie du réseau.\n",
    "- Calcul d'une densité de points de passage pour chaque \"tronçon transfrontalier\" (frontière entre régions voisines)."
   ]
  },
  {
   "cell_type": "markdown",
   "metadata": {
    "slideshow": {
     "slide_type": "subslide"
    }
   },
   "source": [
    "<img width=\"600px\" src=\"images/multi_echelle_pt_passage.png\"/>"
   ]
  },
  {
   "cell_type": "markdown",
   "metadata": {
    "slideshow": {
     "slide_type": "subslide"
    }
   },
   "source": [
    "<img width=\"500px\" src=\"images/no_passage_no_text.png\"/>"
   ]
  },
  {
   "cell_type": "markdown",
   "metadata": {},
   "source": [
    "### Difficultés :\n",
    "\n",
    "**Pour les deux types de réseaux :**\n",
    "- Ne compter qu'une fois les voies qui serpentent de part et d'autre de la frontière.\n",
    "\n",
    "**Réseau ferré :**\n",
    "- Pas de prise en compte de la fréquence de la déserte\n",
    "- Difficultés à s'approprier la typologie existance sur les types de voies\n"
   ]
  },
  {
   "cell_type": "markdown",
   "metadata": {
    "slideshow": {
     "slide_type": "slide"
    }
   },
   "source": [
    "### Caractérisation de l'accessibilité transfrontalière par la performance du réseau"
   ]
  },
  {
   "cell_type": "markdown",
   "metadata": {
    "slideshow": {
     "slide_type": "subslide"
    }
   },
   "source": [
    "**1er indice** : calcul d'une distance-temps moyenne entre les habitants des régions frontalières\n",
    "\n",
    "<img align=\"right\" src=\"images/formule_distance.png\"> "
   ]
  },
  {
   "cell_type": "markdown",
   "metadata": {
    "slideshow": {
     "slide_type": "subslide"
    }
   },
   "source": [
    "<img align=\"center\" width=\"500px\" src=\"images/formule_distance_explication.png\">"
   ]
  },
  {
   "cell_type": "markdown",
   "metadata": {
    "slideshow": {
     "slide_type": "subslide"
    }
   },
   "source": [
    "<img align=\"center\" width=\"500px\" src=\"images/Fig_7_light.png\"/>"
   ]
  },
  {
   "cell_type": "markdown",
   "metadata": {
    "slideshow": {
     "slide_type": "subslide"
    }
   },
   "source": [
    "<img src=\"images/Fig_4.png\"/>"
   ]
  },
  {
   "cell_type": "markdown",
   "metadata": {
    "slideshow": {
     "slide_type": "subslide"
    }
   },
   "source": [
    "**2ème indice** : calcul d'un indicateur de performance du réseau routier prenant en compte la répartition de la population\n",
    "\n",
    "<img align=\"right\" src=\"images/formule_vitesse.png\"/> "
   ]
  },
  {
   "cell_type": "markdown",
   "metadata": {
    "slideshow": {
     "slide_type": "subslide"
    }
   },
   "source": [
    "<img align=\"center\" width=\"700px\" src=\"images/formule_vitesse_explication.png\"/>"
   ]
  },
  {
   "cell_type": "markdown",
   "metadata": {
    "slideshow": {
     "slide_type": "subslide"
    }
   },
   "source": [
    "<img align=\"center\" width=\"500px\" src=\"images/Fig_8_light.png\"/>"
   ]
  },
  {
   "cell_type": "markdown",
   "metadata": {
    "slideshow": {
     "slide_type": "slide"
    }
   },
   "source": [
    "<img src=\"images/Fig_5.jpeg\"/>"
   ]
  },
  {
   "cell_type": "markdown",
   "metadata": {
    "slideshow": {
     "slide_type": "subslide"
    }
   },
   "source": [
    "<img width=\"75%\" height=\"75%\" src=\"images/Fig_6.png\"/>"
   ]
  },
  {
   "cell_type": "markdown",
   "metadata": {
    "slideshow": {
     "slide_type": "slide"
    }
   },
   "source": [
    "### Confrontation de l'indice de performance routière avec les types socio-économiques de discontinuités frontalières"
   ]
  },
  {
   "cell_type": "markdown",
   "metadata": {
    "slideshow": {
     "slide_type": "subslide"
    }
   },
   "source": []
  },
  {
   "cell_type": "markdown",
   "metadata": {
    "slideshow": {
     "slide_type": "slide"
    }
   },
   "source": [
    "## 2ème exemple d'utilisation\n",
    "### Création de matrices de temps de parcours"
   ]
  },
  {
   "cell_type": "markdown",
   "metadata": {
    "slideshow": {
     "slide_type": "subslide"
    }
   },
   "source": [
    "### Affecter des temps de parcours à des volumes de travailleurs frontaliers"
   ]
  },
  {
   "cell_type": "markdown",
   "metadata": {
    "slideshow": {
     "slide_type": "fragment"
    }
   },
   "source": [
    "**La demande:**\n",
    "- Géocoder des noms de communes étrangères vers lesquelles se dirigent des navetteurs francais.\n",
    "- Déterminer les temps de parcours correspondants à ces trajets vers l'étranger (le distancier de la base *Metric©* a été utilisé pour les temps de parcours France->France)."
   ]
  },
  {
   "cell_type": "markdown",
   "metadata": {
    "slideshow": {
     "slide_type": "fragment"
    }
   },
   "source": [
    "\n",
    "**Au passage:**\n",
    "- Possibilité de comparer les temps de parcours OSRM et les temps de parcours de la base *Metric©* pour quelques trajets France-France."
   ]
  },
  {
   "cell_type": "markdown",
   "metadata": {
    "slideshow": {
     "slide_type": "slide"
    }
   },
   "source": [
    "### Utilisation de *Nominatim* et de *Photon* pour le géocodage"
   ]
  },
  {
   "cell_type": "markdown",
   "metadata": {
    "slideshow": {
     "slide_type": "fragment"
    }
   },
   "source": [
    "- Seul le nom de la commune et son pays son connus : présence d'homonymes\n",
    "\n",
    "- Difficultés supplémentaires : noms parfois mal ortohraphiés ou tronqués... (10 charactères)"
   ]
  },
  {
   "cell_type": "markdown",
   "metadata": {
    "slideshow": {
     "slide_type": "fragment"
    }
   },
   "source": [
    "=> Requetes à des instances locales Nominatim/Photon. Choix du résultat parmis les réponses (et les homonymes) en pondérant le résultat en fonction de la distance moyenne entre le résultat et les points de départs des trajets concernés (= on part du principe qu'il s'agit de déplacement quotidiens et donc relativement cours).\n",
    "\n"
   ]
  },
  {
   "cell_type": "markdown",
   "metadata": {
    "slideshow": {
     "slide_type": "slide"
    }
   },
   "source": [
    "### Utilisation d'OSRM\n",
    "#### (en remplacement du distancier INSEE)"
   ]
  },
  {
   "cell_type": "markdown",
   "metadata": {
    "slideshow": {
     "slide_type": "subslide"
    }
   },
   "source": [
    "- **Récupération de temps de parcours**."
   ]
  },
  {
   "cell_type": "markdown",
   "metadata": {
    "slideshow": {
     "slide_type": "fragment"
    }
   },
   "source": [
    "*Les parcours concernés*\n",
    "<img align=\"center\" width=\"400\" src=\"images/trajet_navetteurs_light.png\"/>"
   ]
  },
  {
   "cell_type": "markdown",
   "metadata": {
    "slideshow": {
     "slide_type": "subslide"
    }
   },
   "source": [
    "- **Comparaison entre le distancier INSEE, les temps de parcours OSRM et les temps de parcours Google Direction pour des trajets France-France**."
   ]
  },
  {
   "cell_type": "markdown",
   "metadata": {
    "slideshow": {
     "slide_type": "fragment"
    }
   },
   "source": [
    "Forte corrélation entre le temps de parcours OSRM et le temps de parcours sur réseau vide du distancier.\n",
    "Des résidus parfois étonnant (en particulier dans des régions peu accessibles: des tronçons de routes récents ou des tunnels non pris en compte).\n",
    "<img align=\"center\" width=\"500\" src=\"images/comparaison_osrm_metric.png\"/>"
   ]
  },
  {
   "cell_type": "markdown",
   "metadata": {
    "slideshow": {
     "slide_type": "subslide"
    }
   },
   "source": [
    "- **Developemment de package R** (disponibles sur le CRAN) offrant une interface simplifiée pour consommer les API OSRM et Photon."
   ]
  },
  {
   "cell_type": "markdown",
   "metadata": {
    "slideshow": {
     "slide_type": "fragment"
    }
   },
   "source": [
    "**https://cran.r-project.org/web/packages/osrm/**  \n",
    "**https://github.com/rCarto/osrm**\n",
    "\n",
    "```R\n",
    "# Get isochones with a SpatialPointsDataFrame, custom breaks:\n",
    "iso <- osrm::osrmIsochrone(loc = src[6,], breaks = seq(from = 0,to = 30, by = 5))\n",
    "\n",
    "# Get backgroudn tiles:\n",
    "osm <- getTiles(spdf = iso, crop = TRUE, type = \"osmtransport\")\n",
    "tilesLayer(osm)\n",
    "breaks <- sort(c(unique(iso$min), max(iso$max)))\n",
    "pal <- paste(carto.pal(\"taupe.pal\", length(breaks)-1), \"95\", sep=\"\")\n",
    "# Render the isochrone:\n",
    "cartography::choroLayer(spdf = iso, df = iso@data, var = \"center\",\n",
    "    breaks = breaks, border = \"grey50\", lwd = 0.5, col = pal, legend.pos = \"topleft\", legend.frame = TRUE,\n",
    "    legend.title.txt = \"Driving Time\\nto Renescure\\n(min)\", add = TRUE)\n",
    "plot(src[6,], cex = 2, pch = 20, col =\"red\", add=T)\n",
    "text(src[6,], label = \"Renescure\", pos = 3)\n",
    "```"
   ]
  },
  {
   "cell_type": "markdown",
   "metadata": {
    "slideshow": {
     "slide_type": "subslide"
    }
   },
   "source": [
    "<img align=\"center\" src=\"images/osrm_isoc.png\"/>"
   ]
  },
  {
   "cell_type": "markdown",
   "metadata": {
    "slideshow": {
     "slide_type": "subslide"
    }
   },
   "source": [
    "** https://github.com/rCarto/photon **\n",
    "\n",
    "```R\n",
    "> loc <- photon::geocode(\"3 rue du Port aux Vins, 95220 Herblay\", limit = 1)\n",
    "> print(paste(loc['lon'], loc['lat'], sep=', '))\n",
    "```\n",
    "```\n",
    "[1] \"2.1662455, 48.987152\"\n",
    "```"
   ]
  },
  {
   "cell_type": "markdown",
   "metadata": {
    "slideshow": {
     "slide_type": "subslide"
    }
   },
   "source": [
    "- Developpement de **plugin QGIS** à usage interne (visualisation d'un ou de plusieurs parcours, création d'isochrones polycentriques, de matrices de temps de parcours entre deux jeux de points, etc.).\n",
    "<img align=\"center\" width=\"400\" src=\"images/multi_isochrone.jpg\"/>"
   ]
  },
  {
   "cell_type": "markdown",
   "metadata": {
    "slideshow": {
     "slide_type": "subslide"
    }
   },
   "source": [
    "## Aller plus loin\n",
    "### Se passer de la base *Metric©* par la création d'une matrice de temps de parcours entre les 36000 communes de France Métropolitaine"
   ]
  },
  {
   "cell_type": "markdown",
   "metadata": {
    "collapsed": true,
    "slideshow": {
     "slide_type": "subslide"
    }
   },
   "source": [
    "**La méthode** :  \n",
    "  \n",
    "- Utilisation d'une instance locale OSRM utilisant une image de l'emprise de l'Europe.\n",
    "- Requetes effectuées sur le service *table* de l'API OSRM sous la forme **communes du département Y * ensemble des 36000 communes françaises** (en utilisant le package R OSRM).\n",
    "- Préparation des tables pour les stocker département par département au format CSV (temps en minutes, utilisation des codes INSEE des communes); Environ 7.5Go au format csv."
   ]
  },
  {
   "cell_type": "markdown",
   "metadata": {
    "collapsed": true,
    "slideshow": {
     "slide_type": "subslide"
    }
   },
   "source": [
    "**Problèmes ?**\n",
    "\n",
    "- Comment stocker les données et comment les utiliser ?\n",
    "- Pourquoi ?"
   ]
  },
  {
   "cell_type": "markdown",
   "metadata": {
    "collapsed": true,
    "slideshow": {
     "slide_type": "subslide"
    }
   },
   "source": [
    "#### Temps d'accès à une commune :"
   ]
  },
  {
   "cell_type": "markdown",
   "metadata": {
    "slideshow": {
     "slide_type": "subslide"
    }
   },
   "source": [
    "<img height=\"80%\" src=\"images/distToFloirac.png\"/>"
   ]
  },
  {
   "cell_type": "markdown",
   "metadata": {
    "slideshow": {
     "slide_type": "subslide"
    }
   },
   "source": [
    "<img height=\"80%\" src=\"images/timeToFloirac.png\"/>"
   ]
  },
  {
   "cell_type": "markdown",
   "metadata": {
    "slideshow": {
     "slide_type": "slide"
    }
   },
   "source": [
    "### Utilisation de la distance routière pour le calcul de potentiel de population"
   ]
  },
  {
   "cell_type": "markdown",
   "metadata": {
    "slideshow": {
     "slide_type": "subslide"
    }
   },
   "source": [
    "**_Potentiel de population ?_**"
   ]
  },
  {
   "cell_type": "markdown",
   "metadata": {
    "slideshow": {
     "slide_type": "fragment"
    }
   },
   "source": [
    "- Basé sur une modèle gravitaire"
   ]
  },
  {
   "cell_type": "markdown",
   "metadata": {
    "slideshow": {
     "slide_type": "fragment"
    }
   },
   "source": [
    "- Calcul d'une \"somme pondéré\" d'accès à un stock, en tout point du territoire"
   ]
  },
  {
   "cell_type": "markdown",
   "metadata": {
    "slideshow": {
     "slide_type": "fragment"
    }
   },
   "source": [
    "- Nécessite la formulation d'hypothèses sur le type d'interaction (portée, décroissance de la fonction d'interaction)"
   ]
  },
  {
   "cell_type": "markdown",
   "metadata": {
    "slideshow": {
     "slide_type": "slide"
    }
   },
   "source": [
    "<img width=\"600px\" src=\"images/Pot10km.png\"/>"
   ]
  },
  {
   "cell_type": "markdown",
   "metadata": {
    "slideshow": {
     "slide_type": "subslide"
    }
   },
   "source": [
    " <img src=\"images/Pot15min.png\" width=\"600px\"/>"
   ]
  },
  {
   "cell_type": "markdown",
   "metadata": {
    "slideshow": {
     "slide_type": "subslide"
    }
   },
   "source": [
    "<img width=\"600px\" src=\"images/Pot20km.png\"/>"
   ]
  },
  {
   "cell_type": "markdown",
   "metadata": {
    "slideshow": {
     "slide_type": "subslide"
    }
   },
   "source": [
    "<img src=\"images/Pot30min.png\" width=\"600px\"/>"
   ]
  },
  {
   "cell_type": "markdown",
   "metadata": {
    "slideshow": {
     "slide_type": "subslide"
    }
   },
   "source": [
    "<img width=\"600px\" src=\"images/Pot40km.png\"/>"
   ]
  },
  {
   "cell_type": "markdown",
   "metadata": {
    "slideshow": {
     "slide_type": "subslide"
    }
   },
   "source": [
    "<img src=\"images/Pot60min.png\" width=\"600px\"/>"
   ]
  },
  {
   "cell_type": "markdown",
   "metadata": {
    "slideshow": {
     "slide_type": "slide"
    }
   },
   "source": [
    "**Plus de slides ?**"
   ]
  },
  {
   "cell_type": "markdown",
   "metadata": {
    "slideshow": {
     "slide_type": "slide"
    }
   },
   "source": [
    "### La méthode des potentiels"
   ]
  },
  {
   "cell_type": "markdown",
   "metadata": {
    "slideshow": {
     "slide_type": "subslide"
    }
   },
   "source": [
    "**Présentations détaillées de la méthode, explications et exemples**"
   ]
  },
  {
   "cell_type": "markdown",
   "metadata": {
    "slideshow": {
     "slide_type": "fragment"
    }
   },
   "source": [
    "- COMMENGES H., GIRAUD T., 2016. \"Du point à la surface. Interpolation et interaction spatiale\". Semin-R du Museum National d’Histoire Naturelle, Paris, France, 06/10/2016, 06/10/2016. [[présentation]](http://rug.mnhn.fr/semin-r/PDF/semin-R_interpolation-interaction-spatiale_HCommenges-TGiraud_100616.pdf)\n",
    "- GRASLAND C., 1990. Potentiel de population, interaction spatiale et frontières : des deux Allemagnes à l'unification. Espace géographique. 1990. Vol. 19 N°3. pp. 243-254. [[article]](http://www.persee.fr/doc/spgeo_0046-2497_1990_num_19_3_2992)\n"
   ]
  },
  {
   "cell_type": "markdown",
   "metadata": {
    "slideshow": {
     "slide_type": "subslide"
    }
   },
   "source": [
    "**Disponible dans plusieurs environnements**"
   ]
  },
  {
   "cell_type": "markdown",
   "metadata": {
    "slideshow": {
     "slide_type": "fragment"
    }
   },
   "source": [
    "- R : **SpatialPosition** (calcul de potentiel en tout point de l'espace ou sur une grille régulière, création des contours + d'autres méthodes du meme type)  \n",
    "[CRAN](https://cran.r-project.org/web/packages/SpatialPosition/) / [GitHub](https://github.com/Groupe-ElementR/SpatialPosition)"
   ]
  },
  {
   "cell_type": "markdown",
   "metadata": {
    "slideshow": {
     "slide_type": "fragment"
    }
   },
   "source": [
    "- Python : **Smoomapy** (calcul de potentiel sur une grille régulière et création des contours)  \n",
    "[PyPI](https://pypi.python.org/pypi/smoomapy/) / [GitHub](https://github.com/mthh/smoomapy)"
   ]
  },
  {
   "cell_type": "markdown",
   "metadata": {
    "slideshow": {
     "slide_type": "fragment"
    }
   },
   "source": [
    "- QGIS : plugin **SpatialPositionModel** (calcul de potentiel sur une grille régulière, sortie raster ou création de contours)  \n",
    "[GitHub](https://github.com/mthh/SpatialPositionModel)"
   ]
  },
  {
   "cell_type": "markdown",
   "metadata": {
    "slideshow": {
     "slide_type": "slide"
    }
   },
   "source": [
    "**Plus de cartes ?**"
   ]
  },
  {
   "cell_type": "markdown",
   "metadata": {
    "slideshow": {
     "slide_type": "subslide"
    }
   },
   "source": [
    "<img width=\"700px\" src=\"images/Pot10kmz.png\"/>"
   ]
  },
  {
   "cell_type": "markdown",
   "metadata": {
    "slideshow": {
     "slide_type": "subslide"
    }
   },
   "source": [
    "<img width=\"700px\" src=\"images/Pot15minz.png\"/>"
   ]
  }
 ],
 "metadata": {
  "celltoolbar": "Slideshow",
  "kernelspec": {
   "display_name": "Python 3",
   "language": "python",
   "name": "python3"
  },
  "language_info": {
   "codemirror_mode": {
    "name": "ipython",
    "version": 3
   },
   "file_extension": ".py",
   "mimetype": "text/x-python",
   "name": "python",
   "nbconvert_exporter": "python",
   "pygments_lexer": "ipython3",
   "version": "3.5.2+"
  }
 },
 "nbformat": 4,
 "nbformat_minor": 2
}

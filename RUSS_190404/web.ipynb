{
 "cells": [
  {
   "cell_type": "markdown",
   "metadata": {
    "slideshow": {
     "slide_type": "slide"
    }
   },
   "source": [
    "## Et pour publier ses données sur le web ??\n",
    "\n",
    "<img src=\"img/shiny_logo.png\" style=\"height: 140px; width: auto;\" />\n",
    "<img src=\"img/dash_logo.svg\" style=\"height: 140px; width: auto;\" />\n",
    "\n",
    "Du coté de l'écosystème R on pense forcémment à [Shiny]() :\n",
    "- parfait pour un prototypage rapide ou partager le résultat d'analyses\n",
    "- applications web facilement \"réactives\"\n",
    "- ..."
   ]
  },
  {
   "cell_type": "markdown",
   "metadata": {
    "slideshow": {
     "slide_type": "subslide"
    }
   },
   "source": [
    "D'une part des solutions similaires existent en Python, c'est notamment le cas de [**Dash**](https://dash.plot.ly/) (qui est basé sur [Plotly](https://plot.ly/)) et d'autres frameworks qui semblent moins aboutis (gleam, etc.)."
   ]
  },
  {
   "cell_type": "markdown",
   "metadata": {
    "slideshow": {
     "slide_type": "slide"
    }
   },
   "source": [
    "#### Dash : https://dash.plot.ly/\n",
    "\n",
    "<img src=\"img/dash_logo.svg\" />\n",
    "\n",
    "Installation :\n",
    "\n",
    "```sh\n",
    "pip3 install dash dash-daq\n",
    "```"
   ]
  },
  {
   "cell_type": "markdown",
   "metadata": {
    "slideshow": {
     "slide_type": "subslide"
    }
   },
   "source": [
    "- Point fort : **utilisation de la syntaxe déclarative de Plot.ly**"
   ]
  },
  {
   "cell_type": "markdown",
   "metadata": {
    "slideshow": {
     "slide_type": "subslide"
    }
   },
   "source": [
    "```python\n",
    "# dash_example.py\n",
    "\n",
    "import dash\n",
    "import dash_core_components as dcc\n",
    "import dash_html_components as html\n",
    " \n",
    "app = dash.Dash()\n",
    " \n",
    "app.layout = html.Div(children=[\n",
    "    html.Div(children='Demo chart'),\n",
    "    dcc.Graph(\n",
    "        id='graphss',\n",
    "        figure={\n",
    "            'data': [\n",
    "                {'x':[1,2,3,4,5,6,7], 'y':[11,12,22,23,24,44,55], 'type':'line', 'name':'Energy'},\n",
    "                {'x':[1,2,3,4,5,6,7], 'y':[13,15,26,27,34,44,65], 'type':'bar', 'name':'Time'},\n",
    "            ],\n",
    "            'layout': {\n",
    "                'title': 'Graph for Time and Energy'\n",
    "            }\n",
    "        }\n",
    "    )\n",
    "])\n",
    "```"
   ]
  },
  {
   "cell_type": "markdown",
   "metadata": {
    "slideshow": {
     "slide_type": "skip"
    }
   },
   "source": []
  },
  {
   "cell_type": "markdown",
   "metadata": {
    "slideshow": {
     "slide_type": "skip"
    }
   },
   "source": []
  },
  {
   "cell_type": "markdown",
   "metadata": {
    "slideshow": {
     "slide_type": "subslide"
    }
   },
   "source": [
    "Si on a peu ou pas besoin de la réactivité offerte par Shiny ou si on est prêt à écrire quelques lignes de codes supplémentaires, on pourra commencer à utiliser de \"vrais\" frameworks web comme Python en offre :\n",
    "- flask\n",
    "- aiohttp\n",
    "- hug\n",
    "- django\n",
    "- ..."
   ]
  },
  {
   "cell_type": "markdown",
   "metadata": {
    "slideshow": {
     "slide_type": "subslide"
    }
   },
   "source": [
    "Dans ce cas, des bibliothèques puissantes existent notamment pour :\n",
    "- gérer les communications avec la base de données (en établissant un mappage entre le modèle de données utilisé par la page web et celui contenu dans la base de données utilisées, pour éviter d'écrire manuellement du SQL par exemple),\n",
    "- effectuer le templetage coté serveur (*Jinja 2*, etc.),\n",
    "- gérer les sessions et l'authentification des utilisateurs."
   ]
  },
  {
   "cell_type": "markdown",
   "metadata": {
    "slideshow": {
     "slide_type": "slide"
    }
   },
   "source": [
    "#### Créer rapidement une API REST"
   ]
  },
  {
   "cell_type": "markdown",
   "metadata": {
    "slideshow": {
     "slide_type": "subslide"
    }
   },
   "source": [
    "En R des solutions comme `plumber` vont permettre d'exposer facilement des fonctionnalités R en les annotant :"
   ]
  },
  {
   "cell_type": "markdown",
   "metadata": {
    "slideshow": {
     "slide_type": "subslide"
    }
   },
   "source": [
    "```R\n",
    "# with_plumber.R\n",
    "\n",
    "#* @get /mean\n",
    "normalMean <- function(samples=10){\n",
    "  data <- rnorm(samples)\n",
    "  mean(data)\n",
    "}\n",
    "\n",
    "#* @post /sum\n",
    "addTwo <- function(a, b){\n",
    "  as.numeric(a) + as.numeric(b)\n",
    "}\n",
    "```\n",
    "\n",
    "-----------------------\n",
    "```R\n",
    "# main.R\n",
    "\n",
    "library(plumber)\n",
    "r <- plumb(\"with_plumber.R\")\n",
    "r$run(port=8080)\n",
    "```"
   ]
  },
  {
   "cell_type": "markdown",
   "metadata": {
    "slideshow": {
     "slide_type": "subslide"
    }
   },
   "source": [
    "Des solutions similaires existent en Python.  \n",
    "\n",
    "#### Hug : http://www.hug.rest/\n",
    "\n",
    "L'exemple précédent pourra par exemple être écrit de la façon suivante en utilisant ce framework et en utilisant des *décorateurs* sur nos fonctions.\n",
    "\n",
    "Installation requise de `hug` au préalable : \n",
    "\n",
    "```sh\n",
    "pip3 install hug\n",
    "```"
   ]
  },
  {
   "cell_type": "code",
   "execution_count": 1,
   "metadata": {
    "slideshow": {
     "slide_type": "subslide"
    }
   },
   "outputs": [],
   "source": [
    "# with_hug.py\n",
    "\n",
    "import hug\n",
    "import numpy as np\n",
    "\n",
    "@hug.get(examples='samples=100')\n",
    "def mean(samples: hug.types.number = 10):\n",
    "    data = np.random.randn(samples)\n",
    "    return data.mean()\n",
    "\n",
    "@hug.post()\n",
    "def sum(a: hug.types.number, b: hug.types.number):\n",
    "    return a + b"
   ]
  },
  {
   "cell_type": "markdown",
   "metadata": {
    "slideshow": {
     "slide_type": "fragment"
    }
   },
   "source": [
    "Dans un terminal :\n",
    "\n",
    "- Serveur de developpement :\n",
    "\n",
    "```sh\n",
    "hug -f with_hug.py\n",
    "```\n",
    "\n",
    "- Avec un serveur wsgi :\n",
    "\n",
    "```sh\n",
    "gunicorn with_hug:__hug_wsgi__\n",
    "```"
   ]
  },
  {
   "cell_type": "markdown",
   "metadata": {
    "slideshow": {
     "slide_type": "subslide"
    }
   },
   "source": [
    "#### Tester le résultat"
   ]
  },
  {
   "cell_type": "markdown",
   "metadata": {
    "slideshow": {
     "slide_type": "fragment"
    }
   },
   "source": [
    "```sh\n",
    "curl -X POST -F \"a=1\" -F \"b=12\" localhost:8000/sum\n",
    "```"
   ]
  },
  {
   "cell_type": "markdown",
   "metadata": {
    "slideshow": {
     "slide_type": "slide"
    }
   },
   "source": [
    "### Partie suivante ...\n",
    "\n",
    "#### 8. [Discussions](RetourDiscussion.slides.html)"
   ]
  }
 ],
 "metadata": {
  "celltoolbar": "Diaporama",
  "kernelspec": {
   "display_name": "Python 3",
   "language": "python",
   "name": "python3"
  },
  "language_info": {
   "codemirror_mode": {
    "name": "ipython",
    "version": 3
   },
   "file_extension": ".py",
   "mimetype": "text/x-python",
   "name": "python",
   "nbconvert_exporter": "python",
   "pygments_lexer": "ipython3",
   "version": "3.6.7"
  }
 },
 "nbformat": 4,
 "nbformat_minor": 2
}

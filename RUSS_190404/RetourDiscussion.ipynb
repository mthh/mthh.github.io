{
 "cells": [
  {
   "cell_type": "markdown",
   "metadata": {
    "slideshow": {
     "slide_type": "slide"
    }
   },
   "source": [
    "### Discussion"
   ]
  },
  {
   "cell_type": "markdown",
   "metadata": {
    "slideshow": {
     "slide_type": "slide"
    }
   },
   "source": [
    "#### Selon moi quelques points forts du Python (notamment par rapport à R)"
   ]
  },
  {
   "cell_type": "markdown",
   "metadata": {
    "slideshow": {
     "slide_type": "fragment"
    }
   },
   "source": [
    "- gestion des ***exceptions*** et des **traces d'éxecution**."
   ]
  },
  {
   "cell_type": "markdown",
   "metadata": {
    "slideshow": {
     "slide_type": "fragment"
    }
   },
   "source": [
    "- sa **bibliothèque standard** (notamment pour les fonctionnalités relatives au système : multiprocessing, socket, io, etc.) et sa documentation."
   ]
  },
  {
   "cell_type": "markdown",
   "metadata": {
    "slideshow": {
     "slide_type": "fragment"
    }
   },
   "source": [
    "- sa **polyvalence** : pour le web (nombreux frameworks), pour créer des interfaces graphiques (PyQt, etc.), comme langage de script dans différents logiciels (Qgis, ArcGis, Blender, etc.)."
   ]
  },
  {
   "cell_type": "markdown",
   "metadata": {
    "slideshow": {
     "slide_type": "fragment"
    }
   },
   "source": [
    "- **performances** pas nécessairement en reste."
   ]
  },
  {
   "cell_type": "markdown",
   "metadata": {
    "slideshow": {
     "slide_type": "fragment"
    }
   },
   "source": [
    "- une syntaxe claire, concise et permettant un **code généralement proche du pseudo-code**."
   ]
  },
  {
   "cell_type": "markdown",
   "metadata": {
    "slideshow": {
     "slide_type": "slide"
    }
   },
   "source": [
    "### Retour sur la stack techno"
   ]
  },
  {
   "cell_type": "markdown",
   "metadata": {
    "slideshow": {
     "slide_type": "subslide"
    }
   },
   "source": [
    "#### Les incontournables :\n",
    "\n",
    "- Un IDE avec **IPython**\n",
    "- **Numpy**\n",
    "- **SciPy**\n",
    "- **scikit-learn**\n",
    "- **matplotlib** / **seaborn**\n",
    "- **pandas**\n",
    "- **statsmodels**"
   ]
  },
  {
   "cell_type": "markdown",
   "metadata": {
    "slideshow": {
     "slide_type": "subslide"
    }
   },
   "source": [
    "#### Géo-spatial / manipulation d'images / langage naturel\n",
    "\n",
    "- **geopandas**\n",
    "- **rasterio**\n",
    "- **networkx**\n",
    "- **scikit-image**\n",
    "- **Cython**\n",
    "- **Rpy2**\n",
    "- **PyQt**\n",
    "- **owlready2**\n",
    "- **NLTK**\n",
    "- **SpaCy** : https://spacy.io/"
   ]
  },
  {
   "cell_type": "markdown",
   "metadata": {
    "slideshow": {
     "slide_type": "subslide"
    }
   },
   "source": [
    "#### Web (client)\n",
    "\n",
    "\n",
    "- **BeautifulSoup**\n",
    "- **scrapy**\n",
    "- **aiohttp**\n",
    "\n",
    "#### Web (serveur)\n",
    "\n",
    "- **SQLAlchemy**\n",
    "- **Flask**\n",
    "- **aiohttp**\n",
    "- **Dash**"
   ]
  },
  {
   "cell_type": "markdown",
   "metadata": {
    "slideshow": {
     "slide_type": "subslide"
    }
   },
   "source": [
    "#### Manipulation de tenseurs / apprentissage approfondi\n",
    "\n",
    "- **theano**\n",
    "- **PyTorch**\n",
    "- **TensorFlow**\n",
    "- **Microsoft Cognitive Toolkit** (*CNTK*)"
   ]
  },
  {
   "cell_type": "markdown",
   "metadata": {
    "slideshow": {
     "slide_type": "subslide"
    }
   },
   "source": [
    "<div style=\"margin: auto; text-align: center;margin-bottom: 12%;display: flex;\">\n",
    "<img style=\"margin: auto; height: 100px; width: auto;\" src=\"img/russ_thumbnail.png\" />\n",
    "<img src=\"img/python_logo.png\" style=\"margin: auto; height: 100px; width: auto;\"/>\n",
    "</div>"
   ]
  },
  {
   "cell_type": "markdown",
   "metadata": {
    "slideshow": {
     "slide_type": "slide"
    }
   },
   "source": [
    "<div style=\"text-align: center;margin-bottom: 15%;\">\n",
    "<h1>Merci de votre attention :)</h1>\n",
    "</div>\n",
    "\n",
    "<div style=\"margin: auto; text-align: center;margin-bottom: 12%;display: flex;\">\n",
    "<img style=\"margin: auto; height: 100px; width: auto;\" src=\"img/russ_thumbnail.png\" />\n",
    "<img src=\"img/python_logo.png\" style=\"margin: auto; height: 100px; width: auto;\"/>\n",
    "</div>\n",
    "\n",
    "<div style=\"font-size: 1.1em; font-weight: bold;\">\n",
    "<p style=\"text-align: center;\">matthieu.viry@univ-grenoble-alpes.fr</p>\n",
    "<p style=\"text-align: center;\"><a>https://mthh.github.io/RUSS_190404/</a></p>\n",
    "</div>"
   ]
  }
 ],
 "metadata": {
  "celltoolbar": "Diaporama",
  "kernelspec": {
   "display_name": "Python 3",
   "language": "python",
   "name": "python3"
  },
  "language_info": {
   "codemirror_mode": {
    "name": "ipython",
    "version": 3
   },
   "file_extension": ".py",
   "mimetype": "text/x-python",
   "name": "python",
   "nbconvert_exporter": "python",
   "pygments_lexer": "ipython3",
   "version": "3.6.7"
  }
 },
 "nbformat": 4,
 "nbformat_minor": 2
}

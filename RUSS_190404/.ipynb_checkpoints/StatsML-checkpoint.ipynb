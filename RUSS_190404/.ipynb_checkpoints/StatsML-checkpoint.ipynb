{
 "cells": [
  {
   "cell_type": "markdown",
   "metadata": {
    "slideshow": {
     "slide_type": "slide"
    }
   },
   "source": [
    "## Analyse statistique et modélisation prédictive"
   ]
  },
  {
   "cell_type": "code",
   "execution_count": 4,
   "metadata": {
    "slideshow": {
     "slide_type": "skip"
    }
   },
   "outputs": [
    {
     "data": {
      "text/html": [
       "<div>\n",
       "<style scoped>\n",
       "    .dataframe tbody tr th:only-of-type {\n",
       "        vertical-align: middle;\n",
       "    }\n",
       "\n",
       "    .dataframe tbody tr th {\n",
       "        vertical-align: top;\n",
       "    }\n",
       "\n",
       "    .dataframe thead th {\n",
       "        text-align: right;\n",
       "    }\n",
       "</style>\n",
       "<table border=\"1\" class=\"dataframe\">\n",
       "  <thead>\n",
       "    <tr style=\"text-align: right;\">\n",
       "      <th></th>\n",
       "      <th>State</th>\n",
       "      <th>HighQ</th>\n",
       "      <th>HighQN</th>\n",
       "      <th>MedQ</th>\n",
       "      <th>MedQN</th>\n",
       "      <th>LowQ</th>\n",
       "      <th>LowQN</th>\n",
       "      <th>date</th>\n",
       "    </tr>\n",
       "  </thead>\n",
       "  <tbody>\n",
       "    <tr>\n",
       "      <th>0</th>\n",
       "      <td>Alabama</td>\n",
       "      <td>340.21</td>\n",
       "      <td>1391</td>\n",
       "      <td>203.97</td>\n",
       "      <td>1254</td>\n",
       "      <td>145.79</td>\n",
       "      <td>160</td>\n",
       "      <td>2014-08-13</td>\n",
       "    </tr>\n",
       "    <tr>\n",
       "      <th>1</th>\n",
       "      <td>Alaska</td>\n",
       "      <td>289.81</td>\n",
       "      <td>327</td>\n",
       "      <td>260.97</td>\n",
       "      <td>404</td>\n",
       "      <td>403.33</td>\n",
       "      <td>33</td>\n",
       "      <td>2014-08-13</td>\n",
       "    </tr>\n",
       "    <tr>\n",
       "      <th>2</th>\n",
       "      <td>Arizona</td>\n",
       "      <td>300.50</td>\n",
       "      <td>2407</td>\n",
       "      <td>209.48</td>\n",
       "      <td>2139</td>\n",
       "      <td>186.92</td>\n",
       "      <td>281</td>\n",
       "      <td>2014-08-13</td>\n",
       "    </tr>\n",
       "    <tr>\n",
       "      <th>3</th>\n",
       "      <td>Arkansas</td>\n",
       "      <td>347.19</td>\n",
       "      <td>752</td>\n",
       "      <td>180.98</td>\n",
       "      <td>722</td>\n",
       "      <td>126.20</td>\n",
       "      <td>134</td>\n",
       "      <td>2014-08-13</td>\n",
       "    </tr>\n",
       "    <tr>\n",
       "      <th>4</th>\n",
       "      <td>California</td>\n",
       "      <td>245.33</td>\n",
       "      <td>15081</td>\n",
       "      <td>191.63</td>\n",
       "      <td>16853</td>\n",
       "      <td>187.83</td>\n",
       "      <td>987</td>\n",
       "      <td>2014-08-13</td>\n",
       "    </tr>\n",
       "  </tbody>\n",
       "</table>\n",
       "</div>"
      ],
      "text/plain": [
       "        State   HighQ  HighQN    MedQ  MedQN    LowQ  LowQN        date\n",
       "0     Alabama  340.21    1391  203.97   1254  145.79    160  2014-08-13\n",
       "1      Alaska  289.81     327  260.97    404  403.33     33  2014-08-13\n",
       "2     Arizona  300.50    2407  209.48   2139  186.92    281  2014-08-13\n",
       "3    Arkansas  347.19     752  180.98    722  126.20    134  2014-08-13\n",
       "4  California  245.33   15081  191.63  16853  187.83    987  2014-08-13"
      ]
     },
     "execution_count": 4,
     "metadata": {},
     "output_type": "execute_result"
    }
   ],
   "source": [
    "# On réutilisera le jeu de données préparé précédemment :\n",
    "import pandas as pd\n",
    "\n",
    "df = pd.read_csv('data/weed_prices.csv')\n",
    "df.head()"
   ]
  },
  {
   "cell_type": "markdown",
   "metadata": {
    "slideshow": {
     "slide_type": "slide"
    }
   },
   "source": [
    "### Scipy\n",
    "\n",
    "<img src=\"img/scipy_logo.png\" style=\"height: 150px; width: auto;\" />"
   ]
  },
  {
   "cell_type": "markdown",
   "metadata": {
    "slideshow": {
     "slide_type": "subslide"
    }
   },
   "source": [
    "- modules pour l'**optimisation**, l'**algèbre linéaire**, les **statistiques**, le **traitement du signal**, le support de **matrices creuses**, etc.\n",
    "\n",
    "- soin apporté aux **performances** et méthodes éprouvées.\n",
    "\n",
    "- API facilement compréhensible, proche de NumPy et de la philosophie Python de manière générale.\n"
   ]
  },
  {
   "cell_type": "markdown",
   "metadata": {
    "slideshow": {
     "slide_type": "slide"
    }
   },
   "source": [
    "### Scikit-learn\n",
    "\n",
    "\n",
    "<img src=\"img/sklearn_logo.png\" />"
   ]
  },
  {
   "cell_type": "markdown",
   "metadata": {
    "slideshow": {
     "slide_type": "subslide"
    }
   },
   "source": [
    "- un outil de **modélisation prédictive** (notamment developpé dans le cadre de travaux à l'INRIA).\n",
    "\n",
    "\n",
    "- **documentation est très riche** (aussi bien dans l'explication des concepts qui sont mobilisés que dans la description de l'API).\n",
    "\n",
    "\n",
    "- de **nombreuses fonctionnalités pour préparer les données** (*standardisation*, *normalisation*, *extraction des échantillons*, *\"vectorisation\"* de corpus de texte, etc.).\n",
    "\n",
    "\n",
    "- l'API de l'ensemble des modèles suit strictement la même logique : simplicité d'utilisation (pas forcément de préparation spécifique des données pour les adapter à un autre modèle par exemple).\n",
    "\n",
    "\n",
    "- soin apporté aux **performances** lors de l'ajout de fonctionnalités."
   ]
  },
  {
   "cell_type": "markdown",
   "metadata": {
    "slideshow": {
     "slide_type": "slide"
    }
   },
   "source": [
    "### Statsmodels\n",
    "\n",
    "Statsmodels est une bibliothèque qui va permettre d'estimer des modèles statistiques et d'effectuer des tests statistiques.\n",
    "\n",
    "<img src=\"img/statsmodels_screenshot.png\" />"
   ]
  },
  {
   "cell_type": "markdown",
   "metadata": {
    "slideshow": {
     "slide_type": "slide"
    }
   },
   "source": [
    "### Partie suivante ...\n",
    "\n",
    "#### 6. [Manipulation de données géospatiales](ManipulationGeospatiale.slides.html)"
   ]
  }
 ],
 "metadata": {
  "celltoolbar": "Diaporama",
  "kernelspec": {
   "display_name": "Python 3",
   "language": "python",
   "name": "python3"
  },
  "language_info": {
   "codemirror_mode": {
    "name": "ipython",
    "version": 3
   },
   "file_extension": ".py",
   "mimetype": "text/x-python",
   "name": "python",
   "nbconvert_exporter": "python",
   "pygments_lexer": "ipython3",
   "version": "3.6.7"
  }
 },
 "nbformat": 4,
 "nbformat_minor": 2
}

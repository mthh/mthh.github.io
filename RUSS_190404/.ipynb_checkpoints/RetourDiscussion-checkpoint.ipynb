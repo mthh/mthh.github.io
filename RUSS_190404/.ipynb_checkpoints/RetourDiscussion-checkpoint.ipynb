{
 "cells": [
  {
   "cell_type": "markdown",
   "metadata": {
    "slideshow": {
     "slide_type": "slide"
    }
   },
   "source": [
    "### Discussion"
   ]
  },
  {
   "cell_type": "markdown",
   "metadata": {
    "slideshow": {
     "slide_type": "slide"
    }
   },
   "source": [
    "#### Selon moi quelques points forts du Python (notamment par rapport à R)"
   ]
  },
  {
   "cell_type": "markdown",
   "metadata": {
    "slideshow": {
     "slide_type": "fragment"
    }
   },
   "source": [
    "- gestion des ***exceptions*** et des **traces d'éxecution**."
   ]
  },
  {
   "cell_type": "markdown",
   "metadata": {
    "slideshow": {
     "slide_type": "fragment"
    }
   },
   "source": [
    "- sa **bibliothèque standard** (notamment pour les fonctionnalités relatives au système : multiprocessing, socket, io, etc.) et sa documentation."
   ]
  },
  {
   "cell_type": "markdown",
   "metadata": {
    "slideshow": {
     "slide_type": "fragment"
    }
   },
   "source": [
    "- sa **polyvalence** : pour le **web** (nombreux frameworks), pour créer des **interfaces graphiques** (PyQt, etc.), comme **langage de script dans différents logiciels** (Qgis, ArcGis, Blender, etc.)."
   ]
  },
  {
   "cell_type": "markdown",
   "metadata": {
    "slideshow": {
     "slide_type": "fragment"
    }
   },
   "source": [
    "- **performances** pas nécessairement en reste."
   ]
  },
  {
   "cell_type": "markdown",
   "metadata": {
    "slideshow": {
     "slide_type": "fragment"
    }
   },
   "source": [
    "- une syntaxe claire, concise et permettant un **code généralement proche du pseudo-code**."
   ]
  },
  {
   "cell_type": "markdown",
   "metadata": {
    "slideshow": {
     "slide_type": "slide"
    }
   },
   "source": [
    "### Retour sur la stack techno"
   ]
  },
  {
   "cell_type": "markdown",
   "metadata": {
    "slideshow": {
     "slide_type": "subslide"
    }
   },
   "source": [
    "#### Les incontournables :\n",
    "\n",
    "- Un IDE avec **IPython**\n",
    "- **Numpy** : http://www.numpy.org/\n",
    "- **SciPy** : https://www.scipy.org/\n",
    "- **scikit-learn** : https://scikit-learn.org/\n",
    "- **matplotlib** : https://matplotlib.org/ \n",
    "- **pandas** : https://pandas.pydata.org/\n",
    "- **seaborn** : https://seaborn.pydata.org/\n",
    "- **statsmodels** : https://www.statsmodels.org"
   ]
  },
  {
   "cell_type": "markdown",
   "metadata": {
    "slideshow": {
     "slide_type": "subslide"
    }
   },
   "source": [
    "#### Géo-spatial / manipulation d'images / langage naturel\n",
    "\n",
    "- **geopandas** : http://geopandas.org/ (géospatial / vecteur)\n",
    "- **fiona** : https://fiona.readthedocs.io (géospatial / vecteur)\n",
    "- **rasterio** : https://rasterio.readthedocs.io (géospatial / raster)\n",
    "- **networkx** : https://networkx.github.io/ (création, manipulation et étude de réseaux complexes)\n",
    "- **scikit-image** : https://scikit-image.org/ (traitement d'images)\n",
    "- **Cython** : https://cython.org/ (extensions compilées / performantes pour Python)\n",
    "- **Rpy2** : https://rpy2.readthedocs.io/ (API permettant d'accéder à R depuis Python)\n",
    "- **PyQt** : https://www.riverbankcomputing.com/static/Docs/PyQt5/ (*bindings* Python pour Qt)\n",
    "- **owlready2** : https://pythonhosted.org/Owlready2/ (programmation orientée ontologie)\n",
    "- **NLTK** : https://www.nltk.org/ (traitement automatique traitement automatique du langage naturel)\n",
    "- **SpaCy** : https://spacy.io/ (traitement automatique traitement automatique du langage naturel)"
   ]
  },
  {
   "cell_type": "markdown",
   "metadata": {
    "slideshow": {
     "slide_type": "subslide"
    }
   },
   "source": [
    "#### Web (client)\n",
    "\n",
    "- **requests** : http://docs.python-requests.org (*\"HTTP pour les humains\"*)\n",
    "- **BeautifulSoup** : https://www.crummy.com/software/BeautifulSoup/bs4/doc/ (analyse syntaxique de documents HTML et XML)\n",
    "- **scrapy** : https://scrapy.org/ (extraction de données Web / création de robots d'indexation)\n",
    "- **aiohttp** : https://aiohttp.readthedocs.io (client/serveur HTTP asynchrone basé sur *asyncio*)\n",
    "\n",
    "#### Web (serveur)\n",
    "\n",
    "- **SQLAlchemy** : https://www.sqlalchemy.org/ (toolkit open source SQL et un mapping objet-relationnel (ORM))\n",
    "- **Flask** : http://flask.pocoo.org/ (micro-framework de développement Web)\n",
    "- **aiohttp** : https://aiohttp.readthedocs.io (client/serveur HTTP asynchrone basé sur *asyncio*)\n",
    "- **Dash** : https://plot.ly/products/dash/ (création d'applications web pour l'analyse et la visualisaton de données)"
   ]
  },
  {
   "cell_type": "markdown",
   "metadata": {
    "slideshow": {
     "slide_type": "subslide"
    }
   },
   "source": [
    "#### Recherche reproductible\n",
    "\n",
    "- **binder** : https://mybinder.org/ (création d'environnements reproductibles pour l'éxecution de *notebook*)\n",
    "\n",
    "#### Manipulation de tenseurs / apprentissage approfondi\n",
    "\n",
    "\n",
    "- **PyTorch** : https://pytorch.org/ (basé sur Torch, développé par *Facebook*)\n",
    "- **TensorFlow** : https://www.tensorflow.org/ (probablement le plus utilisé, développé par *Google*, code ouvert depuis 2015)\n",
    "- **Microsoft Cognitive Toolkit** (*CNTK*) : https://docs.microsoft.com/en-us/cognitive-toolkit/ (développé par *Microsoft Research*)\n",
    "- **theano** : http://www.deeplearning.net/software/theano/ (développé par le *Mila* (Institut des algorithmes d'apprentissage de Montréal) de 2007 jusqu'à fin 2017)"
   ]
  },
  {
   "cell_type": "markdown",
   "metadata": {
    "slideshow": {
     "slide_type": "subslide"
    }
   },
   "source": [
    "<div style=\"margin: auto; text-align: center;margin-bottom: 12%;display: flex;\">\n",
    "<img style=\"margin: auto; height: 100px; width: auto;\" src=\"img/russ_thumbnail.png\" />\n",
    "<img src=\"img/python_logo.png\" style=\"margin: auto; height: 100px; width: auto;\"/>\n",
    "</div>"
   ]
  },
  {
   "cell_type": "markdown",
   "metadata": {
    "slideshow": {
     "slide_type": "slide"
    }
   },
   "source": [
    "<div style=\"text-align: center;margin-bottom: 15%;\">\n",
    "<h1>Merci de votre attention :)</h1>\n",
    "</div>\n",
    "\n",
    "<div style=\"margin: auto; text-align: center;margin-bottom: 12%;display: flex;\">\n",
    "<img style=\"margin: auto; height: 100px; width: auto;\" src=\"img/russ_thumbnail.png\" />\n",
    "<img src=\"img/python_logo.png\" style=\"margin: auto; height: 100px; width: auto;\"/>\n",
    "</div>\n",
    "\n",
    "<div style=\"font-size: 1.1em; font-weight: bold;\">\n",
    "<p style=\"text-align: center;\">matthieu.viry@univ-grenoble-alpes.fr</p>\n",
    "<p style=\"text-align: center;\"><a>https://mthh.github.io/RUSS_190404/</a></p>\n",
    "</div>"
   ]
  }
 ],
 "metadata": {
  "celltoolbar": "Diaporama",
  "kernelspec": {
   "display_name": "Python 3",
   "language": "python",
   "name": "python3"
  },
  "language_info": {
   "codemirror_mode": {
    "name": "ipython",
    "version": 3
   },
   "file_extension": ".py",
   "mimetype": "text/x-python",
   "name": "python",
   "nbconvert_exporter": "python",
   "pygments_lexer": "ipython3",
   "version": "3.6.7"
  }
 },
 "nbformat": 4,
 "nbformat_minor": 2
}

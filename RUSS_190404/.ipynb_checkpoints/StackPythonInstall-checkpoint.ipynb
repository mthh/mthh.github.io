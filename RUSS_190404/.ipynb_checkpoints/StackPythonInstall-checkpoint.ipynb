{
 "cells": [
  {
   "cell_type": "markdown",
   "metadata": {
    "slideshow": {
     "slide_type": "slide"
    }
   },
   "source": [
    "## Quelle stack techno. ? Des \"distributions\" de Python ?"
   ]
  },
  {
   "cell_type": "markdown",
   "metadata": {
    "slideshow": {
     "slide_type": "subslide"
    }
   },
   "source": [
    "Python est téléchargeable depuis www.python.org et depuis les différents gestionnaires de paquets des distributions GNU/Linux."
   ]
  },
  {
   "cell_type": "markdown",
   "metadata": {
    "slideshow": {
     "slide_type": "slide"
    }
   },
   "source": [
    "En fonction du système d'exploitation et de la manière dont on a la possibilité de l'administrer, l'installation et le maintien à jour d'un environnement Python performant *peut* devenir laborieux."
   ]
  },
  {
   "cell_type": "markdown",
   "metadata": {
    "slideshow": {
     "slide_type": "subslide"
    }
   },
   "source": [
    "- Existance d'outils permettant de créer des environnements virtuels Python (`virtualenv` et `virtualenvwrapper`) lors de l'installation ou du développement de certains autres logiciels Python nécessitant des versions spécifiques de certaines dépendances.\n",
    "\n",
    "    Ressources sur ces environnements virtuels Python:\n",
    "    - https://python-guide-pt-br.readthedocs.io/fr/latest/dev/virtualenvs.html\n",
    "    - https://openclassrooms.com/fr/courses/4425111-perfectionnez-vous-en-python/4463278-travaillez-dans-un-environnement-virtuel"
   ]
  },
  {
   "cell_type": "markdown",
   "metadata": {
    "slideshow": {
     "slide_type": "slide"
    }
   },
   "source": [
    "### Distributions\n",
    "\n",
    "Il peut aussi être conseillé d'utiliser des **distributions Python adaptées à un environnement scientifique** : ces distributions offrent un grand nombre de bibliothèques (par défaut la majorité de celles vues aujourd'hui)."
   ]
  },
  {
   "cell_type": "markdown",
   "metadata": {
    "slideshow": {
     "slide_type": "subslide"
    }
   },
   "source": [
    "#### Anaconda\n",
    "\n",
    "<img src=\"img/anaconda_logo.png\" />\n",
    "\n",
    "https://www.anaconda.com/distribution/\n",
    "\n",
    "C'est probablement la distribution la plus répandue.  \n",
    "\n",
    "Elle s'appuie sur l'outil de virtualisation d'environnement `conda` et est fournie avec environ 200 bibliothèques pré-installées et de nombreuses autres pré-compilés sont disponibles en téléchargement (-> plus simples à installer pour les utilisateurs Windows qu'en utilisant `pip` avec une installation traditionnelle de Python).  \n",
    "\n",
    "Contrairement aux distributions suivantes, elle n'est pas fournie avec un IDE *desktop* mais on pourra l'utiliser avec la majorité des IDE Python traditionnels : https://docs.anaconda.com/anaconda/user-guide/tasks/integration/#using-ides."
   ]
  },
  {
   "cell_type": "markdown",
   "metadata": {
    "slideshow": {
     "slide_type": "subslide"
    }
   },
   "source": [
    "#### WinPython\n",
    "\n",
    "<img src=\"img/winpython_logo.png\" />\n",
    "\n",
    "https://winpython.github.io/\n",
    "\n",
    "**Distribution spécifique Windows** (7/8/10) qui comprend un grand nombre des bibliothèques vues aujourd'hui (NumPy, SciPy, Matplotlib, pandas, etc.), l'IDE Spyder et Jupyter.\n",
    "\n",
    "Cette distribution (**entièrement portable si besoin**) est également fournie avec un compilateur (permettant par exemple de compiler et d'éxecuter du code **Cython** directement depuis Spyder ou Jupyter, ou d'installer des dépendances qui nécessitent de compiler du code externe)."
   ]
  },
  {
   "cell_type": "markdown",
   "metadata": {
    "slideshow": {
     "slide_type": "subslide"
    }
   },
   "source": [
    "#### Autres distributions conseillées / déjà testées :\n",
    "\n",
    "- **Enthought Canopy** : Distribution scientifique complète avec un IDE, Jupyter, Matplotlib, NumPy and SciPy (avec les derniers drivers Intel MKL), Matplotlib, etc. et plus de 600 packages pré-compilés pour une installation facile et rapide.\n",
    "> - Enthought est une des principales sociétés ayant participé au développement de bibliothèques scientifiques en Python.\n",
    "> - **https://www.enthought.com/products/canopy/**\n",
    "\n",
    "- **Python(x,y)** : Distribution scientifique avec Spyder, Qt, MinGW, etc.\n",
    "> - **https://python-xy.github.io/**"
   ]
  },
  {
   "cell_type": "markdown",
   "metadata": {
    "slideshow": {
     "slide_type": "subslide"
    }
   },
   "source": [
    "- **PythonAnywhere** : IDE Python en ligne et service d'hébergement en ligne (inclus l'ensemble de la stack SciPy)\n",
    "> - *Host, run, and code Python in the cloud!* \n",
    "> - **https://www.pythonanywhere.com/**\n"
   ]
  },
  {
   "cell_type": "markdown",
   "metadata": {
    "slideshow": {
     "slide_type": "subslide"
    }
   },
   "source": [
    "#### Des bibliothèques installées en s'appuyant sur des bibliothèques de bas niveau qui offrent de hautes performances pour l'algèbre linéaire"
   ]
  },
  {
   "cell_type": "markdown",
   "metadata": {
    "slideshow": {
     "slide_type": "fragment"
    }
   },
   "source": [
    "**NumPy** et **SciPy** peuvent s'appuyer sur des bibliothèques de plus bas niveau pour certaines opérations (utilisation de l'API BLAS qui utilise certaines fonctionnalités des processeurs telles que l'utilisation d'instructions SIMD).\n",
    "\n",
    "Sans rentrer dans les détails, on notera que différentes implémentations existent (**OpenBLAS**, **Intel® Math Kernel Library**, **ATLAS**, etc.) et que toutes n'offrent pas les mêmes performances."
   ]
  },
  {
   "cell_type": "markdown",
   "metadata": {
    "slideshow": {
     "slide_type": "subslide"
    }
   },
   "source": [
    "Il est possible de savoir quelle configuration est utilisée par NumPy :"
   ]
  },
  {
   "cell_type": "code",
   "execution_count": 7,
   "metadata": {
    "scrolled": true,
    "slideshow": {
     "slide_type": "fragment"
    }
   },
   "outputs": [
    {
     "name": "stdout",
     "output_type": "stream",
     "text": [
      "blas_mkl_info:\n",
      "  NOT AVAILABLE\n",
      "blis_info:\n",
      "  NOT AVAILABLE\n",
      "openblas_info:\n",
      "    libraries = ['openblas', 'openblas']\n",
      "    library_dirs = ['/usr/local/lib']\n",
      "    language = c\n",
      "    define_macros = [('HAVE_CBLAS', None)]\n",
      "blas_opt_info:\n",
      "    libraries = ['openblas', 'openblas']\n",
      "    library_dirs = ['/usr/local/lib']\n",
      "    language = c\n",
      "    define_macros = [('HAVE_CBLAS', None)]\n",
      "lapack_mkl_info:\n",
      "  NOT AVAILABLE\n",
      "openblas_lapack_info:\n",
      "    libraries = ['openblas', 'openblas']\n",
      "    library_dirs = ['/usr/local/lib']\n",
      "    language = c\n",
      "    define_macros = [('HAVE_CBLAS', None)]\n",
      "lapack_opt_info:\n",
      "    libraries = ['openblas', 'openblas']\n",
      "    library_dirs = ['/usr/local/lib']\n",
      "    language = c\n",
      "    define_macros = [('HAVE_CBLAS', None)]\n"
     ]
    }
   ],
   "source": [
    "import numpy as np\n",
    "\n",
    "np.__config__.show()"
   ]
  },
  {
   "cell_type": "code",
   "execution_count": 8,
   "metadata": {
    "slideshow": {
     "slide_type": "subslide"
    }
   },
   "outputs": [
    {
     "name": "stdout",
     "output_type": "stream",
     "text": [
      "version: 1.16.2\n",
      "maxint:  9223372036854775807\n",
      "\n",
      "BLAS info:\n",
      " * libraries ['openblas', 'openblas']\n",
      " * library_dirs ['/usr/lib/x86_64-linux-gnu']\n",
      " * language c\n",
      " * define_macros [('HAVE_CBLAS', None)]\n"
     ]
    }
   ],
   "source": [
    "from numpy.distutils.system_info import get_info\n",
    "import sys\n",
    "\n",
    "print(\"version: %s\\nmaxint:  %i\\n\" % (np.__version__, sys.maxsize))\n",
    "\n",
    "info = get_info('blas_opt')\n",
    "print('BLAS info:')\n",
    "for kk, vv in info.items():\n",
    "    print(' * ' + kk + ' ' + str(vv))\n"
   ]
  },
  {
   "cell_type": "code",
   "execution_count": 9,
   "metadata": {
    "scrolled": true,
    "slideshow": {
     "slide_type": "subslide"
    }
   },
   "outputs": [
    {
     "name": "stdout",
     "output_type": "stream",
     "text": [
      "The rpy2.ipython extension is already loaded. To reload it, use:\n",
      "  %reload_ext rpy2.ipython\n"
     ]
    },
    {
     "data": {
      "text/html": [
       "\n",
       "        <span>ListVector with 9 elements.</span>\n",
       "        <table>\n",
       "        <tbody>\n",
       "        \n",
       "          <tr>\n",
       "            <th>\n",
       "            R.version\n",
       "            </th>\n",
       "            <td>\n",
       "            \n",
       "        <span>ListVector with 14 elements.</span>\n",
       "        <table>\n",
       "        <tbody>\n",
       "        \n",
       "          <tr>\n",
       "            <th>\n",
       "            platform\n",
       "            </th>\n",
       "            <td>\n",
       "            \n",
       "        <span>StrVector with 1 elements.</span>\n",
       "        <table>\n",
       "        <tbody>\n",
       "          <tr>\n",
       "          \n",
       "            <td>\n",
       "            'x86_64-pc-linux-gnu'\n",
       "            </td>\n",
       "          \n",
       "          </tr>\n",
       "        </tbody>\n",
       "        </table>\n",
       "        \n",
       "            </td>\n",
       "          </tr>\n",
       "        \n",
       "          <tr>\n",
       "            <th>\n",
       "            arch\n",
       "            </th>\n",
       "            <td>\n",
       "            \n",
       "        <span>StrVector with 1 elements.</span>\n",
       "        <table>\n",
       "        <tbody>\n",
       "          <tr>\n",
       "          \n",
       "            <td>\n",
       "            'x86_64'\n",
       "            </td>\n",
       "          \n",
       "          </tr>\n",
       "        </tbody>\n",
       "        </table>\n",
       "        \n",
       "            </td>\n",
       "          </tr>\n",
       "        \n",
       "          <tr>\n",
       "            <th>\n",
       "            os\n",
       "            </th>\n",
       "            <td>\n",
       "            \n",
       "        <span>StrVector with 1 elements.</span>\n",
       "        <table>\n",
       "        <tbody>\n",
       "          <tr>\n",
       "          \n",
       "            <td>\n",
       "            'linux-gnu'\n",
       "            </td>\n",
       "          \n",
       "          </tr>\n",
       "        </tbody>\n",
       "        </table>\n",
       "        \n",
       "            </td>\n",
       "          </tr>\n",
       "        \n",
       "          <tr>\n",
       "            <th>\n",
       "            ...\n",
       "            </th>\n",
       "            <td>\n",
       "            ...\n",
       "            </td>\n",
       "          </tr>\n",
       "        \n",
       "          <tr>\n",
       "            <th>\n",
       "            language\n",
       "            </th>\n",
       "            <td>\n",
       "            \n",
       "        <span>StrVector with 1 elements.</span>\n",
       "        <table>\n",
       "        <tbody>\n",
       "          <tr>\n",
       "          \n",
       "            <td>\n",
       "            'R'\n",
       "            </td>\n",
       "          \n",
       "          </tr>\n",
       "        </tbody>\n",
       "        </table>\n",
       "        \n",
       "            </td>\n",
       "          </tr>\n",
       "        \n",
       "          <tr>\n",
       "            <th>\n",
       "            version.string\n",
       "            </th>\n",
       "            <td>\n",
       "            \n",
       "        <span>StrVector with 1 elements.</span>\n",
       "        <table>\n",
       "        <tbody>\n",
       "          <tr>\n",
       "          \n",
       "            <td>\n",
       "            'R version 3.4.4 (2018-03-15)'\n",
       "            </td>\n",
       "          \n",
       "          </tr>\n",
       "        </tbody>\n",
       "        </table>\n",
       "        \n",
       "            </td>\n",
       "          </tr>\n",
       "        \n",
       "          <tr>\n",
       "            <th>\n",
       "            nickname\n",
       "            </th>\n",
       "            <td>\n",
       "            \n",
       "        <span>StrVector with 1 elements.</span>\n",
       "        <table>\n",
       "        <tbody>\n",
       "          <tr>\n",
       "          \n",
       "            <td>\n",
       "            'Someone to Lean On'\n",
       "            </td>\n",
       "          \n",
       "          </tr>\n",
       "        </tbody>\n",
       "        </table>\n",
       "        \n",
       "            </td>\n",
       "          </tr>\n",
       "        \n",
       "        </tbody>\n",
       "        </table>\n",
       "        \n",
       "            </td>\n",
       "          </tr>\n",
       "        \n",
       "          <tr>\n",
       "            <th>\n",
       "            platform\n",
       "            </th>\n",
       "            <td>\n",
       "            \n",
       "        <span>StrVector with 1 elements.</span>\n",
       "        <table>\n",
       "        <tbody>\n",
       "          <tr>\n",
       "          \n",
       "            <td>\n",
       "            'x86_64-pc-linux-gnu (64-bit)'\n",
       "            </td>\n",
       "          \n",
       "          </tr>\n",
       "        </tbody>\n",
       "        </table>\n",
       "        \n",
       "            </td>\n",
       "          </tr>\n",
       "        \n",
       "          <tr>\n",
       "            <th>\n",
       "            locale\n",
       "            </th>\n",
       "            <td>\n",
       "            \n",
       "        <span>StrVector with 1 elements.</span>\n",
       "        <table>\n",
       "        <tbody>\n",
       "          <tr>\n",
       "          \n",
       "            <td>\n",
       "            'LC_CTYPE=fr_FR.UTF-8;LC_NUMERIC=C;LC_TIME=fr_FR....\n",
       "            </td>\n",
       "          \n",
       "          </tr>\n",
       "        </tbody>\n",
       "        </table>\n",
       "        \n",
       "            </td>\n",
       "          </tr>\n",
       "        \n",
       "          <tr>\n",
       "            <th>\n",
       "            ...\n",
       "            </th>\n",
       "            <td>\n",
       "            ...\n",
       "            </td>\n",
       "          </tr>\n",
       "        \n",
       "          <tr>\n",
       "            <th>\n",
       "            matprod\n",
       "            </th>\n",
       "            <td>\n",
       "            \n",
       "        <span>StrVector with 1 elements.</span>\n",
       "        <table>\n",
       "        <tbody>\n",
       "          <tr>\n",
       "          \n",
       "            <td>\n",
       "            'default'\n",
       "            </td>\n",
       "          \n",
       "          </tr>\n",
       "        </tbody>\n",
       "        </table>\n",
       "        \n",
       "            </td>\n",
       "          </tr>\n",
       "        \n",
       "          <tr>\n",
       "            <th>\n",
       "            BLAS\n",
       "            </th>\n",
       "            <td>\n",
       "            \n",
       "        <span>StrVector with 1 elements.</span>\n",
       "        <table>\n",
       "        <tbody>\n",
       "          <tr>\n",
       "          \n",
       "            <td>\n",
       "            '/usr/lib/x86_64-linux-gnu/openblas/libblas.so.3'\n",
       "            </td>\n",
       "          \n",
       "          </tr>\n",
       "        </tbody>\n",
       "        </table>\n",
       "        \n",
       "            </td>\n",
       "          </tr>\n",
       "        \n",
       "          <tr>\n",
       "            <th>\n",
       "            LAPACK\n",
       "            </th>\n",
       "            <td>\n",
       "            \n",
       "        <span>StrVector with 1 elements.</span>\n",
       "        <table>\n",
       "        <tbody>\n",
       "          <tr>\n",
       "          \n",
       "            <td>\n",
       "            '/usr/lib/x86_64-linux-gnu/openblas/liblapack.so.3'\n",
       "            </td>\n",
       "          \n",
       "          </tr>\n",
       "        </tbody>\n",
       "        </table>\n",
       "        \n",
       "            </td>\n",
       "          </tr>\n",
       "        \n",
       "        </tbody>\n",
       "        </table>\n",
       "        "
      ],
      "text/plain": [
       "R object with classes: ('sessionInfo',) mapped to:\n",
       "[ListSexpV..., StrSexpVe..., StrSexpVe..., StrSexpVe..., ..., ListSexpV..., StrSexpVe..., StrSexpVe..., StrSexpVe...]\n",
       "  R.version: <class 'rpy2.rinterface.ListSexpVector'>\n",
       "  <rpy2.rinterface.ListSexpVector object at 0x7f287e961388> [RTYPES.VECSXP]\n",
       "  platform: <class 'rpy2.rinterface_lib.sexp.StrSexpVector'>\n",
       "  <rpy2.rinterface_lib.sexp.StrSexpVector object at 0x7f287e97fe88> [RTYPES.STRSXP]\n",
       "  locale: <class 'rpy2.rinterface_lib.sexp.StrSexpVector'>\n",
       "  <rpy2.rinterface_lib.sexp.StrSexpVector object at 0x7f287e97fcc8> [RTYPES.STRSXP]\n",
       "  running: <class 'rpy2.rinterface_lib.sexp.StrSexpVector'>\n",
       "  <rpy2.rinterface_lib.sexp.StrSexpVector object at 0x7f287e97f788> [RTYPES.STRSXP]\n",
       "  basePkgs: <class 'rpy2.rinterface_lib.sexp.StrSexpVector'>\n",
       "  <rpy2.rinterface_lib.sexp.StrSexpVector object at 0x7f287e97fcc8> [RTYPES.STRSXP]\n",
       "  loadedOnly: <class 'rpy2.rinterface.ListSexpVector'>\n",
       "  <rpy2.rinterface.ListSexpVector object at 0x7f287e98b188> [RTYPES.VECSXP]\n",
       "  matprod: <class 'rpy2.rinterface_lib.sexp.StrSexpVector'>\n",
       "  <rpy2.rinterface_lib.sexp.StrSexpVector object at 0x7f287e97fcc8> [RTYPES.STRSXP]\n",
       "  BLAS: <class 'rpy2.rinterface_lib.sexp.StrSexpVector'>\n",
       "  <rpy2.rinterface_lib.sexp.StrSexpVector object at 0x7f287e98b8c8> [RTYPES.STRSXP]\n",
       "  LAPACK: <class 'rpy2.rinterface_lib.sexp.StrSexpVector'>\n",
       "  <rpy2.rinterface_lib.sexp.StrSexpVector object at 0x7f287e97fcc8> [RTYPES.STRSXP]"
      ]
     },
     "execution_count": 9,
     "metadata": {},
     "output_type": "execute_result"
    }
   ],
   "source": [
    "%load_ext rpy2.ipython\n",
    "%R sessionInfo()"
   ]
  },
  {
   "cell_type": "markdown",
   "metadata": {
    "slideshow": {
     "slide_type": "slide"
    }
   },
   "source": [
    "### Le choix d'un IDE"
   ]
  },
  {
   "cell_type": "markdown",
   "metadata": {
    "slideshow": {
     "slide_type": "subslide"
    }
   },
   "source": [
    "- **Spyder**\n",
    "\n",
    "IDE scientifique basé sur **Qt**. Il intègre une console **IPython** et prend en charge l'affichage des graphiques matplotlib (notamment) directement dans la console.  \n",
    "L'éditeur de code à proprement parlé n'est pas le plus flexible ni le plus configurable qui existe."
   ]
  },
  {
   "cell_type": "markdown",
   "metadata": {
    "slideshow": {
     "slide_type": "subslide"
    }
   },
   "source": [
    "<img src=\"img/spyder_screenshot.png\" />"
   ]
  },
  {
   "cell_type": "markdown",
   "metadata": {
    "slideshow": {
     "slide_type": "subslide"
    }
   },
   "source": [
    "- **PyCharm**\n",
    "\n",
    "IDE professionnel dont il existe une version *community*.  \n",
    "Interface plutôt jolie mais peut-être plus effrayante à l'usage pour les débutants.  \n",
    "Intègre de nombreux outils liés à la gestion d'un projet en Python."
   ]
  },
  {
   "cell_type": "markdown",
   "metadata": {
    "slideshow": {
     "slide_type": "subslide"
    }
   },
   "source": [
    "<img src=\"img/pycharm_screenshot.png\" />"
   ]
  },
  {
   "cell_type": "markdown",
   "metadata": {
    "slideshow": {
     "slide_type": "subslide"
    }
   },
   "source": [
    "- **Sublime Text**, **Ninja-IDE**, plugin **PyDev** pour **Eclispe**, etc."
   ]
  },
  {
   "cell_type": "markdown",
   "metadata": {
    "slideshow": {
     "slide_type": "subslide"
    }
   },
   "source": [
    "- **Jupyter Notebook** *(anciennement IPython notebook)*\n",
    "\n",
    "C'est un intepréteur interactif basé sur **IPython** mais permettant d'utiliser des *noyaux* d'**une centaines de langages**.  \n",
    "Basé sur le concept des __*notebook*s__ (calepins électroniques), il permet de combiner des sections en langage naturel, des sections de codes informatiques et différents autres types de médias (graphiques statiques ou interactifs, images, vidéos, etc.).  \n",
    "\n",
    "Il permet d'exporter ces *notebook*s sous différentes formes : *HTML*, *PDF*, scripts Python, slides *reveal.js*, etc."
   ]
  },
  {
   "cell_type": "markdown",
   "metadata": {
    "slideshow": {
     "slide_type": "subslide"
    }
   },
   "source": [
    "<img src=\"img/jupyternotebook_screenshot.png\" />"
   ]
  },
  {
   "cell_type": "markdown",
   "metadata": {
    "slideshow": {
     "slide_type": "subslide"
    }
   },
   "source": [
    "- **Jupyter Lab**\n",
    "\n",
    "Récemment arrivé, *Jupyter Lab* étend les fonctionnalités des *notebook*s Jupyter en offrant un véritable environnement de travail (bien que toujours basé sur un naviguateur web) avec une interface plus flexible.  \n",
    "\n",
    "En plus de la manipulation de *notebook*s on peut, comme dans un IDE classique, travailler sur plusieurs fichiers de code source (et avoir une console associée), tout en bénéficiant des nombreux langages supportés par Jupyter.\n",
    "\n",
    "On peut ainsi réellement éxécuter du code R et Python dans deux onglets voisins, dans un même environnement de travail."
   ]
  },
  {
   "cell_type": "markdown",
   "metadata": {
    "slideshow": {
     "slide_type": "subslide"
    }
   },
   "source": [
    "<img src=\"img/jupyterlab_screenshot.png\" />"
   ]
  },
  {
   "cell_type": "markdown",
   "metadata": {
    "slideshow": {
     "slide_type": "slide"
    }
   },
   "source": [
    "### Partie suivante ...\n",
    "\n",
    "##### 3. [Calcul scientifique et visualisation de données](CalculVisu.slides.html)"
   ]
  }
 ],
 "metadata": {
  "celltoolbar": "Diaporama",
  "kernelspec": {
   "display_name": "Python 3",
   "language": "python",
   "name": "python3"
  },
  "language_info": {
   "codemirror_mode": {
    "name": "ipython",
    "version": 3
   },
   "file_extension": ".py",
   "mimetype": "text/x-python",
   "name": "python",
   "nbconvert_exporter": "python",
   "pygments_lexer": "ipython3",
   "version": "3.6.7"
  }
 },
 "nbformat": 4,
 "nbformat_minor": 2
}

{
 "cells": [
  {
   "cell_type": "markdown",
   "metadata": {},
   "source": [
    "### Example avec du code Rust"
   ]
  },
  {
   "cell_type": "markdown",
   "metadata": {},
   "source": [
    "L'installation d'un noyau permettant d'utiliser Rust avec Jupyter est relativement simple (instructions complètes à l'adresse: https://github.com/google/evcxr/blob/master/evcxr_jupyter/README.md).\n",
    "\n"
   ]
  },
  {
   "cell_type": "markdown",
   "metadata": {},
   "source": [
    "Il est ensuite possible d'utiliser du code / un syntaxe Rust (un langage pourtant compilé) dans un interpréteur."
   ]
  },
  {
   "cell_type": "code",
   "execution_count": 16,
   "metadata": {},
   "outputs": [
    {
     "name": "stdout",
     "output_type": "stream",
     "text": [
      "24\n"
     ]
    }
   ],
   "source": [
    "pub fn factorial(n: u32) -> u32 {\n",
    "    match n {\n",
    "        0 => 0,\n",
    "        1 => 1,\n",
    "        n => n * factorial(n - 1),\n",
    "    }\n",
    "}\n",
    "\n",
    "println!(\"{:?}\", factorial(4));"
   ]
  },
  {
   "cell_type": "code",
   "execution_count": null,
   "metadata": {},
   "outputs": [],
   "source": []
  },
  {
   "cell_type": "markdown",
   "metadata": {},
   "source": [
    "#### Il est également possible d'inclure des bibliothèque externes.\n",
    "\n",
    "Attention toutefois au fait que celle-ci doivent être compilées lors de leur premier import dans le notebook."
   ]
  },
  {
   "cell_type": "code",
   "execution_count": 17,
   "metadata": {},
   "outputs": [],
   "source": [
    "extern crate geojson;"
   ]
  },
  {
   "cell_type": "code",
   "execution_count": null,
   "metadata": {},
   "outputs": [],
   "source": []
  }
 ],
 "metadata": {
  "kernelspec": {
   "display_name": "Rust",
   "language": "rust",
   "name": "rust"
  },
  "language_info": {
   "codemirror_mode": "rust",
   "file_extension": ".rs",
   "mimetype": "text/rust",
   "name": "Rust",
   "pygment_lexer": "rust",
   "version": ""
  }
 },
 "nbformat": 4,
 "nbformat_minor": 2
}

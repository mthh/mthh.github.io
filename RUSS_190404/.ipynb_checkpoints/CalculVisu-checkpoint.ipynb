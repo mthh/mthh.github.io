{
 "cells": [
  {
   "cell_type": "markdown",
   "metadata": {
    "slideshow": {
     "slide_type": "slide"
    }
   },
   "source": [
    "## Calcul scientifique et visualisation de données\n",
    "\n",
    "<img src=\"data:image/png;base64,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\" />"
   ]
  },
  {
   "cell_type": "markdown",
   "metadata": {
    "slideshow": {
     "slide_type": "slide"
    }
   },
   "source": [
    "### Numpy\n",
    "\n",
    "<img src=\"img/numpy_logo.png\" />"
   ]
  },
  {
   "cell_type": "markdown",
   "metadata": {
    "slideshow": {
     "slide_type": "fragment"
    }
   },
   "source": [
    "**Numpy** va permettre de créer et manipuler des tableaux typés de *n* dimensions de manière performante."
   ]
  },
  {
   "cell_type": "markdown",
   "metadata": {
    "slideshow": {
     "slide_type": "fragment"
    }
   },
   "source": [
    "Les bibliothèques utilisées par la suite se basent sur des objets de ce type (les colonnes de valeurs dans **pandas**, valeurs de chaque cellule d'un raster avec **rasterio**, etc.) ou prennent ces objets en entrées (**scikit-learn**, etc.)."
   ]
  },
  {
   "cell_type": "code",
   "execution_count": 1,
   "metadata": {
    "slideshow": {
     "slide_type": "subslide"
    }
   },
   "outputs": [
    {
     "data": {
      "text/plain": [
       "dtype('int64')"
      ]
     },
     "execution_count": 1,
     "metadata": {},
     "output_type": "execute_result"
    }
   ],
   "source": [
    "import numpy as np\n",
    "\n",
    "arr = np.array([1, 2, 3, 4])\n",
    "arr.dtype"
   ]
  },
  {
   "cell_type": "code",
   "execution_count": 2,
   "metadata": {
    "slideshow": {
     "slide_type": "fragment"
    }
   },
   "outputs": [
    {
     "data": {
      "text/plain": [
       "array([3, 4, 5, 6])"
      ]
     },
     "execution_count": 2,
     "metadata": {},
     "output_type": "execute_result"
    }
   ],
   "source": [
    "# Application de l'opération à l'ensemble\n",
    "# du tableau\n",
    "arr + 2"
   ]
  },
  {
   "cell_type": "code",
   "execution_count": 3,
   "metadata": {
    "slideshow": {
     "slide_type": "subslide"
    }
   },
   "outputs": [
    {
     "data": {
      "text/plain": [
       "array([[ 12.1 , -23.9 ],\n",
       "       [  3.91, -20.1 ],\n",
       "       [  2.12,  -7.93]])"
      ]
     },
     "execution_count": 3,
     "metadata": {},
     "output_type": "execute_result"
    }
   ],
   "source": [
    "#### On peut ainsi définir des tableaux plus complexes :\n",
    "arr = np.array([\n",
    "    [12.1, -23.9],\n",
    "    [3.91, -20.1],\n",
    "    [2.12, -7.93],\n",
    "])\n",
    "arr"
   ]
  },
  {
   "cell_type": "markdown",
   "metadata": {
    "slideshow": {
     "slide_type": "subslide"
    }
   },
   "source": [
    "#### Connaitre la taille du tableau :"
   ]
  },
  {
   "cell_type": "code",
   "execution_count": 4,
   "metadata": {
    "slideshow": {
     "slide_type": "fragment"
    }
   },
   "outputs": [
    {
     "data": {
      "text/plain": [
       "6"
      ]
     },
     "execution_count": 4,
     "metadata": {},
     "output_type": "execute_result"
    }
   ],
   "source": [
    "arr.size # Nombre d'éléments"
   ]
  },
  {
   "cell_type": "code",
   "execution_count": 5,
   "metadata": {
    "slideshow": {
     "slide_type": "fragment"
    }
   },
   "outputs": [
    {
     "data": {
      "text/plain": [
       "(3, 2)"
      ]
     },
     "execution_count": 5,
     "metadata": {},
     "output_type": "execute_result"
    }
   ],
   "source": [
    "arr.shape # Dimensions : (3 lignes, 2 colonnes)"
   ]
  },
  {
   "cell_type": "markdown",
   "metadata": {
    "slideshow": {
     "slide_type": "subslide"
    }
   },
   "source": [
    "#### Appliquer une opération à l'ensemble du tableau :"
   ]
  },
  {
   "cell_type": "code",
   "execution_count": 6,
   "metadata": {
    "slideshow": {
     "slide_type": "fragment"
    }
   },
   "outputs": [
    {
     "data": {
      "text/plain": [
       "array([[ 37.51 , -74.09 ],\n",
       "       [ 12.121, -62.31 ],\n",
       "       [  6.572, -24.583]])"
      ]
     },
     "execution_count": 6,
     "metadata": {},
     "output_type": "execute_result"
    }
   ],
   "source": [
    "arr2 = arr * 3.1\n",
    "arr2"
   ]
  },
  {
   "cell_type": "markdown",
   "metadata": {
    "slideshow": {
     "slide_type": "subslide"
    }
   },
   "source": [
    "#### Transposé :"
   ]
  },
  {
   "cell_type": "code",
   "execution_count": 7,
   "metadata": {
    "slideshow": {
     "slide_type": "fragment"
    }
   },
   "outputs": [
    {
     "data": {
      "text/plain": [
       "array([[ 37.51 ,  12.121,   6.572],\n",
       "       [-74.09 , -62.31 , -24.583]])"
      ]
     },
     "execution_count": 7,
     "metadata": {},
     "output_type": "execute_result"
    }
   ],
   "source": [
    "arr2.T"
   ]
  },
  {
   "cell_type": "code",
   "execution_count": 8,
   "metadata": {},
   "outputs": [
    {
     "data": {
      "text/plain": [
       "array([[ 37.51 ,  12.121,   6.572],\n",
       "       [-74.09 , -62.31 , -24.583]])"
      ]
     },
     "execution_count": 8,
     "metadata": {},
     "output_type": "execute_result"
    }
   ],
   "source": [
    "arr2.transpose()"
   ]
  },
  {
   "cell_type": "markdown",
   "metadata": {
    "slideshow": {
     "slide_type": "subslide"
    }
   },
   "source": [
    "#### Produit terme à terme :"
   ]
  },
  {
   "cell_type": "code",
   "execution_count": 9,
   "metadata": {
    "slideshow": {
     "slide_type": "fragment"
    }
   },
   "outputs": [
    {
     "data": {
      "text/plain": [
       "array([[ 453.871  , 1770.751  ],\n",
       "       [  47.39311, 1252.431  ],\n",
       "       [  13.93264,  194.94319]])"
      ]
     },
     "execution_count": 9,
     "metadata": {},
     "output_type": "execute_result"
    }
   ],
   "source": [
    "arr * arr2"
   ]
  },
  {
   "cell_type": "markdown",
   "metadata": {
    "slideshow": {
     "slide_type": "subslide"
    }
   },
   "source": [
    "#### Produit matriciel :"
   ]
  },
  {
   "cell_type": "code",
   "execution_count": 10,
   "metadata": {
    "slideshow": {
     "slide_type": "fragment"
    }
   },
   "outputs": [
    {
     "data": {
      "text/plain": [
       "array([[2224.622  , 1635.8731 ,  667.0549 ],\n",
       "       [1635.8731 , 1299.82411,  519.81482],\n",
       "       [ 667.0549 ,  519.81482,  208.87583]])"
      ]
     },
     "execution_count": 10,
     "metadata": {},
     "output_type": "execute_result"
    }
   ],
   "source": [
    "arr.dot(arr2.T)"
   ]
  },
  {
   "cell_type": "markdown",
   "metadata": {
    "slideshow": {
     "slide_type": "subslide"
    }
   },
   "source": [
    "#### Découpage (*slicing*) :"
   ]
  },
  {
   "cell_type": "code",
   "execution_count": 11,
   "metadata": {
    "slideshow": {
     "slide_type": "fragment"
    }
   },
   "outputs": [
    {
     "data": {
      "text/plain": [
       "array([-23.9 , -20.1 ,  -7.93])"
      ]
     },
     "execution_count": 11,
     "metadata": {},
     "output_type": "execute_result"
    }
   ],
   "source": [
    "arr[:,1]"
   ]
  },
  {
   "cell_type": "markdown",
   "metadata": {
    "slideshow": {
     "slide_type": "subslide"
    }
   },
   "source": [
    "#### Sélection d'éléments :"
   ]
  },
  {
   "cell_type": "code",
   "execution_count": 12,
   "metadata": {
    "slideshow": {
     "slide_type": "fragment"
    }
   },
   "outputs": [
    {
     "data": {
      "text/plain": [
       "array([12.1 ,  3.91,  2.12])"
      ]
     },
     "execution_count": 12,
     "metadata": {},
     "output_type": "execute_result"
    }
   ],
   "source": [
    "arr[arr > 0]"
   ]
  },
  {
   "cell_type": "markdown",
   "metadata": {
    "slideshow": {
     "slide_type": "subslide"
    }
   },
   "source": [
    "#### Modification de la forme du tableau :"
   ]
  },
  {
   "cell_type": "code",
   "execution_count": 13,
   "metadata": {
    "slideshow": {
     "slide_type": "fragment"
    }
   },
   "outputs": [
    {
     "data": {
      "text/plain": [
       "array([[ 12.1 ],\n",
       "       [-23.9 ],\n",
       "       [  3.91],\n",
       "       [-20.1 ],\n",
       "       [  2.12],\n",
       "       [ -7.93]])"
      ]
     },
     "execution_count": 13,
     "metadata": {},
     "output_type": "execute_result"
    }
   ],
   "source": [
    "arr.reshape(6, 1)"
   ]
  },
  {
   "cell_type": "code",
   "execution_count": 14,
   "metadata": {
    "slideshow": {
     "slide_type": "fragment"
    }
   },
   "outputs": [
    {
     "data": {
      "text/plain": [
       "array([[ 12.1 , -23.9 ,   3.91, -20.1 ,   2.12,  -7.93]])"
      ]
     },
     "execution_count": 14,
     "metadata": {},
     "output_type": "execute_result"
    }
   ],
   "source": [
    "arr.reshape(1, 6)"
   ]
  },
  {
   "cell_type": "code",
   "execution_count": 15,
   "metadata": {
    "slideshow": {
     "slide_type": "fragment"
    }
   },
   "outputs": [
    {
     "data": {
      "text/plain": [
       "array([[12.1       , -7.96666667],\n",
       "       [ 3.91      , -6.7       ],\n",
       "       [ 2.12      , -2.64333333]])"
      ]
     },
     "execution_count": 15,
     "metadata": {},
     "output_type": "execute_result"
    }
   ],
   "source": [
    "# Division de tous les éléments de la\n",
    "# deuxième colonne (-> index 1) par 3\n",
    "arr[:,1] /= 3\n",
    "arr"
   ]
  },
  {
   "cell_type": "markdown",
   "metadata": {
    "slideshow": {
     "slide_type": "subslide"
    }
   },
   "source": [
    "#### Création de tableaux \"spécifiques\" :"
   ]
  },
  {
   "cell_type": "code",
   "execution_count": 16,
   "metadata": {
    "slideshow": {
     "slide_type": "fragment"
    }
   },
   "outputs": [
    {
     "data": {
      "text/plain": [
       "array([[0., 0.],\n",
       "       [0., 0.],\n",
       "       [0., 0.],\n",
       "       [0., 0.]])"
      ]
     },
     "execution_count": 16,
     "metadata": {},
     "output_type": "execute_result"
    }
   ],
   "source": [
    "np.zeros((4, 2))"
   ]
  },
  {
   "cell_type": "code",
   "execution_count": 17,
   "metadata": {
    "slideshow": {
     "slide_type": "fragment"
    }
   },
   "outputs": [
    {
     "data": {
      "text/plain": [
       "array([1., 1., 1.])"
      ]
     },
     "execution_count": 17,
     "metadata": {},
     "output_type": "execute_result"
    }
   ],
   "source": [
    "np.ones(3)"
   ]
  },
  {
   "cell_type": "code",
   "execution_count": 18,
   "metadata": {
    "slideshow": {
     "slide_type": "subslide"
    }
   },
   "outputs": [
    {
     "data": {
      "text/plain": [
       "array([1. , 1.6, 2.2, 2.8, 3.4, 4. ])"
      ]
     },
     "execution_count": 18,
     "metadata": {},
     "output_type": "execute_result"
    }
   ],
   "source": [
    "# Éléments régulièrement espacés\n",
    "np.linspace(1., 4., 6) # Premier, dernier, nombre d'éléments"
   ]
  },
  {
   "cell_type": "code",
   "execution_count": 19,
   "metadata": {
    "slideshow": {
     "slide_type": "subslide"
    }
   },
   "outputs": [
    {
     "data": {
      "text/plain": [
       "array([0.70033452, 0.37323258, 0.30457816, 0.89517739, 0.49368348,\n",
       "       0.66629952, 0.00532499, 0.03592179, 0.27343153, 0.34342842,\n",
       "       0.32278472, 0.31684983, 0.01157586, 0.30594017, 0.14175573,\n",
       "       0.73940055, 0.98393337, 0.55085479, 0.81612485, 0.36770632,\n",
       "       0.47503789, 0.13275072, 0.16804681, 0.74839374, 0.92052602,\n",
       "       0.85406743, 0.60323953, 0.79057747, 0.79392021, 0.71436542,\n",
       "       0.08504263, 0.37295468, 0.26227163, 0.17007402, 0.00835505,\n",
       "       0.10059159, 0.31228431, 0.85333909, 0.21941645, 0.97149878,\n",
       "       0.51257748, 0.35464863, 0.26018628, 0.8357394 , 0.92530692,\n",
       "       0.4331179 , 0.48459518, 0.28786897, 0.06555665, 0.85024552,\n",
       "       0.28941492, 0.94675241, 0.65902255, 0.79431291, 0.0981484 ,\n",
       "       0.07283913, 0.86172499, 0.09264166, 0.90451018, 0.91885169,\n",
       "       0.5433306 , 0.4652768 , 0.50852447, 0.65844165, 0.47737303,\n",
       "       0.69944201, 0.49530553, 0.84278798, 0.91406133, 0.88652499,\n",
       "       0.53702082, 0.55615617, 0.30198504, 0.68389455, 0.94947692,\n",
       "       0.59921078, 0.80692022, 0.0658255 , 0.54019208, 0.15617988,\n",
       "       0.13422537, 0.86800746, 0.79302552, 0.88147529, 0.72744056,\n",
       "       0.81611995, 0.95717368, 0.2347678 , 0.59538288, 0.2668807 ,\n",
       "       0.37607059, 0.8853477 , 0.37141981, 0.3685758 , 0.89620832,\n",
       "       0.17469043, 0.42098384, 0.63632537, 0.17212182, 0.11458136])"
      ]
     },
     "execution_count": 19,
     "metadata": {},
     "output_type": "execute_result"
    }
   ],
   "source": [
    "np.random.uniform(0, 1, 100) # 100 valeurs entre 0 et 1"
   ]
  },
  {
   "cell_type": "markdown",
   "metadata": {
    "slideshow": {
     "slide_type": "subslide"
    }
   },
   "source": [
    "#### Un histogramme pour visualiser ces valeurs ?"
   ]
  },
  {
   "cell_type": "markdown",
   "metadata": {
    "slideshow": {
     "slide_type": "slide"
    }
   },
   "source": [
    "### Matplotlib\n",
    "\n",
    "<img src=\"img/matplotlib_logo.png\" />"
   ]
  },
  {
   "cell_type": "code",
   "execution_count": null,
   "metadata": {
    "slideshow": {
     "slide_type": "skip"
    }
   },
   "outputs": [],
   "source": []
  },
  {
   "cell_type": "code",
   "execution_count": 20,
   "metadata": {
    "slideshow": {
     "slide_type": "subslide"
    }
   },
   "outputs": [
    {
     "data": {
      "image/png": "[encoded data removed]",
      "text/plain": [
       "<Figure size 432x288 with 1 Axes>"
      ]
     },
     "metadata": {
      "needs_background": "light"
     },
     "output_type": "display_data"
    }
   ],
   "source": [
    "import matplotlib.pyplot as plt\n",
    "%matplotlib inline\n",
    "\n",
    "data = np.random.uniform(0, 1, 1000)\n",
    "\n",
    "plt.hist(data, 20, facecolor='purple') \n",
    "plt.xlabel('X~U[0,1]')\n",
    "plt.ylabel('Count')\n",
    "plt.title(\"Uniform Distribution Histogram (Bin size 20)\")\n",
    "plt.axis([0, 1, 0, 80])\n",
    "plt.grid(True)\n",
    "plt.show()"
   ]
  },
  {
   "cell_type": "code",
   "execution_count": 21,
   "metadata": {
    "slideshow": {
     "slide_type": "subslide"
    }
   },
   "outputs": [
    {
     "data": {
      "image/png": "[encoded data removed]",
      "text/plain": [
       "<Figure size 432x288 with 1 Axes>"
      ]
     },
     "metadata": {
      "needs_background": "light"
     },
     "output_type": "display_data"
    }
   ],
   "source": [
    "from mpl_toolkits.mplot3d import Axes3D\n",
    "\n",
    "def randrange(n, vmin, vmax):\n",
    "    return (vmax - vmin)*np.random.rand(n) + vmin\n",
    "\n",
    "fig = plt.figure()\n",
    "ax = fig.add_subplot(111, projection='3d')\n",
    "n = 100\n",
    "\n",
    "for c, m, zlow, zhigh in [('r', 'o', -50, -25), ('b', '^', -30, -5)]:\n",
    "    xs = randrange(n, 23, 32)\n",
    "    ys = randrange(n, 0, 100)\n",
    "    zs = randrange(n, zlow, zhigh)\n",
    "    ax.scatter(xs, ys, zs, c=c, marker=m)\n",
    "\n",
    "ax.set_xlabel('X Label')\n",
    "ax.set_ylabel('Y Label')\n",
    "ax.set_zlabel('Z Label')\n",
    "plt.show()"
   ]
  },
  {
   "cell_type": "code",
   "execution_count": 22,
   "metadata": {
    "scrolled": true,
    "slideshow": {
     "slide_type": "subslide"
    }
   },
   "outputs": [
    {
     "data": {
      "image/png": "[encoded data removed]",
      "text/plain": [
       "<Figure size 576x576 with 1 Axes>"
      ]
     },
     "metadata": {
      "needs_background": "light"
     },
     "output_type": "display_data"
    }
   ],
   "source": [
    "### Des contours ET des motifs ??\n",
    "\n",
    "x = np.linspace(-3, 5, 150).reshape(1, -1)\n",
    "y = np.linspace(-3, 5, 120).reshape(-1, 1)\n",
    "z = np.cos(x) + np.sin(y) + np.random.uniform(0, 0.25, 120 * 150).reshape((120, 150))\n",
    "x, y = x.flatten(), y.flatten()\n",
    "\n",
    "fig2, ax2 = plt.subplots(figsize=(8,8))\n",
    "n_levels = 6\n",
    "ax2.contour(x, y, z, n_levels, colors='black', linestyles='-')\n",
    "cs = ax2.contourf(x, y, z, n_levels, colors='none',\n",
    "                  hatches=['.', '/', '\\\\', None, '\\\\\\\\', '*'],\n",
    "                  extend='lower')\n",
    "# ax2.legend(*cs.legend_elements(), handleheight=2)\n",
    "plt.show()"
   ]
  },
  {
   "cell_type": "markdown",
   "metadata": {
    "slideshow": {
     "slide_type": "subslide"
    }
   },
   "source": [
    "Sans rentrer dans les détails de l'API de matplotlib :\n",
    "- API riche, documentation complète, nombreux examples, personnalisable, etc.\n",
    "- les différentes visualisations de cette présentation (graphiques avec pandas et seaborn, \"cartes\" avec geopandas) utilisent **matplotlib** quand ce n'est pas spécifié.\n",
    "- d'autres solutions existent (notamment [**Bokeh**](https://bokeh.pydata.org/) et [**Plot.ly**](https://plot.ly/python/) avec sa syntaxe déclarative et sa possibilité de faire facilement des graphiques interactifs)."
   ]
  },
  {
   "cell_type": "markdown",
   "metadata": {
    "slideshow": {
     "slide_type": "subslide"
    }
   },
   "source": [
    "### Le même histogramme que précédemment avec **Bokeh** ?"
   ]
  },
  {
   "cell_type": "code",
   "execution_count": 23,
   "metadata": {
    "slideshow": {
     "slide_type": "subslide"
    }
   },
   "outputs": [
    {
     "data": {
      "text/html": [
       "\n",
       "    <div class=\"bk-root\">\n",
       "        <a href=\"https://bokeh.pydata.org\" target=\"_blank\" class=\"bk-logo bk-logo-small bk-logo-notebook\"></a>\n",
       "        <span id=\"1001\">Loading BokehJS ...</span>\n",
       "    </div>"
      ]
     },
     "metadata": {},
     "output_type": "display_data"
    },
    {
     "data": {
      "application/javascript": [
       "\n",
       "(function(root) {\n",
       "  function now() {\n",
       "    return new Date();\n",
       "  }\n",
       "\n",
       "  var force = true;\n",
       "\n",
       "  if (typeof (root._bokeh_onload_callbacks) === \"undefined\" || force === true) {\n",
       "    root._bokeh_onload_callbacks = [];\n",
       "    root._bokeh_is_loading = undefined;\n",
       "  }\n",
       "\n",
       "  var JS_MIME_TYPE = 'application/javascript';\n",
       "  var HTML_MIME_TYPE = 'text/html';\n",
       "  var EXEC_MIME_TYPE = 'application/vnd.bokehjs_exec.v0+json';\n",
       "  var CLASS_NAME = 'output_bokeh rendered_html';\n",
       "\n",
       "  /**\n",
       "   * Render data to the DOM node\n",
       "   */\n",
       "  function render(props, node) {\n",
       "    var script = document.createElement(\"script\");\n",
       "    node.appendChild(script);\n",
       "  }\n",
       "\n",
       "  /**\n",
       "   * Handle when an output is cleared or removed\n",
       "   */\n",
       "  function handleClearOutput(event, handle) {\n",
       "    var cell = handle.cell;\n",
       "\n",
       "    var id = cell.output_area._bokeh_element_id;\n",
       "    var server_id = cell.output_area._bokeh_server_id;\n",
       "    // Clean up Bokeh references\n",
       "    if (id != null && id in Bokeh.index) {\n",
       "      Bokeh.index[id].model.document.clear();\n",
       "      delete Bokeh.index[id];\n",
       "    }\n",
       "\n",
       "    if (server_id !== undefined) {\n",
       "      // Clean up Bokeh references\n",
       "      var cmd = \"from bokeh.io.state import curstate; print(curstate().uuid_to_server['\" + server_id + \"'].get_sessions()[0].document.roots[0]._id)\";\n",
       "      cell.notebook.kernel.execute(cmd, {\n",
       "        iopub: {\n",
       "          output: function(msg) {\n",
       "            var id = msg.content.text.trim();\n",
       "            if (id in Bokeh.index) {\n",
       "              Bokeh.index[id].model.document.clear();\n",
       "              delete Bokeh.index[id];\n",
       "            }\n",
       "          }\n",
       "        }\n",
       "      });\n",
       "      // Destroy server and session\n",
       "      var cmd = \"import bokeh.io.notebook as ion; ion.destroy_server('\" + server_id + \"')\";\n",
       "      cell.notebook.kernel.execute(cmd);\n",
       "    }\n",
       "  }\n",
       "\n",
       "  /**\n",
       "   * Handle when a new output is added\n",
       "   */\n",
       "  function handleAddOutput(event, handle) {\n",
       "    var output_area = handle.output_area;\n",
       "    var output = handle.output;\n",
       "\n",
       "    // limit handleAddOutput to display_data with EXEC_MIME_TYPE content only\n",
       "    if ((output.output_type != \"display_data\") || (!output.data.hasOwnProperty(EXEC_MIME_TYPE))) {\n",
       "      return\n",
       "    }\n",
       "\n",
       "    var toinsert = output_area.element.find(\".\" + CLASS_NAME.split(' ')[0]);\n",
       "\n",
       "    if (output.metadata[EXEC_MIME_TYPE][\"id\"] !== undefined) {\n",
       "      toinsert[toinsert.length - 1].firstChild.textContent = output.data[JS_MIME_TYPE];\n",
       "      // store reference to embed id on output_area\n",
       "      output_area._bokeh_element_id = output.metadata[EXEC_MIME_TYPE][\"id\"];\n",
       "    }\n",
       "    if (output.metadata[EXEC_MIME_TYPE][\"server_id\"] !== undefined) {\n",
       "      var bk_div = document.createElement(\"div\");\n",
       "      bk_div.innerHTML = output.data[HTML_MIME_TYPE];\n",
       "      var script_attrs = bk_div.children[0].attributes;\n",
       "      for (var i = 0; i < script_attrs.length; i++) {\n",
       "        toinsert[toinsert.length - 1].firstChild.setAttribute(script_attrs[i].name, script_attrs[i].value);\n",
       "      }\n",
       "      // store reference to server id on output_area\n",
       "      output_area._bokeh_server_id = output.metadata[EXEC_MIME_TYPE][\"server_id\"];\n",
       "    }\n",
       "  }\n",
       "\n",
       "  function register_renderer(events, OutputArea) {\n",
       "\n",
       "    function append_mime(data, metadata, element) {\n",
       "      // create a DOM node to render to\n",
       "      var toinsert = this.create_output_subarea(\n",
       "        metadata,\n",
       "        CLASS_NAME,\n",
       "        EXEC_MIME_TYPE\n",
       "      );\n",
       "      this.keyboard_manager.register_events(toinsert);\n",
       "      // Render to node\n",
       "      var props = {data: data, metadata: metadata[EXEC_MIME_TYPE]};\n",
       "      render(props, toinsert[toinsert.length - 1]);\n",
       "      element.append(toinsert);\n",
       "      return toinsert\n",
       "    }\n",
       "\n",
       "    /* Handle when an output is cleared or removed */\n",
       "    events.on('clear_output.CodeCell', handleClearOutput);\n",
       "    events.on('delete.Cell', handleClearOutput);\n",
       "\n",
       "    /* Handle when a new output is added */\n",
       "    events.on('output_added.OutputArea', handleAddOutput);\n",
       "\n",
       "    /**\n",
       "     * Register the mime type and append_mime function with output_area\n",
       "     */\n",
       "    OutputArea.prototype.register_mime_type(EXEC_MIME_TYPE, append_mime, {\n",
       "      /* Is output safe? */\n",
       "      safe: true,\n",
       "      /* Index of renderer in `output_area.display_order` */\n",
       "      index: 0\n",
       "    });\n",
       "  }\n",
       "\n",
       "  // register the mime type if in Jupyter Notebook environment and previously unregistered\n",
       "  if (root.Jupyter !== undefined) {\n",
       "    var events = require('base/js/events');\n",
       "    var OutputArea = require('notebook/js/outputarea').OutputArea;\n",
       "\n",
       "    if (OutputArea.prototype.mime_types().indexOf(EXEC_MIME_TYPE) == -1) {\n",
       "      register_renderer(events, OutputArea);\n",
       "    }\n",
       "  }\n",
       "\n",
       "  \n",
       "  if (typeof (root._bokeh_timeout) === \"undefined\" || force === true) {\n",
       "    root._bokeh_timeout = Date.now() + 5000;\n",
       "    root._bokeh_failed_load = false;\n",
       "  }\n",
       "\n",
       "  var NB_LOAD_WARNING = {'data': {'text/html':\n",
       "     \"<div style='background-color: #fdd'>\\n\"+\n",
       "     \"<p>\\n\"+\n",
       "     \"BokehJS does not appear to have successfully loaded. If loading BokehJS from CDN, this \\n\"+\n",
       "     \"may be due to a slow or bad network connection. Possible fixes:\\n\"+\n",
       "     \"</p>\\n\"+\n",
       "     \"<ul>\\n\"+\n",
       "     \"<li>re-rerun `output_notebook()` to attempt to load from CDN again, or</li>\\n\"+\n",
       "     \"<li>use INLINE resources instead, as so:</li>\\n\"+\n",
       "     \"</ul>\\n\"+\n",
       "     \"<code>\\n\"+\n",
       "     \"from bokeh.resources import INLINE\\n\"+\n",
       "     \"output_notebook(resources=INLINE)\\n\"+\n",
       "     \"</code>\\n\"+\n",
       "     \"</div>\"}};\n",
       "\n",
       "  function display_loaded() {\n",
       "    var el = document.getElementById(\"1001\");\n",
       "    if (el != null) {\n",
       "      el.textContent = \"BokehJS is loading...\";\n",
       "    }\n",
       "    if (root.Bokeh !== undefined) {\n",
       "      if (el != null) {\n",
       "        el.textContent = \"BokehJS \" + root.Bokeh.version + \" successfully loaded.\";\n",
       "      }\n",
       "    } else if (Date.now() < root._bokeh_timeout) {\n",
       "      setTimeout(display_loaded, 100)\n",
       "    }\n",
       "  }\n",
       "\n",
       "\n",
       "  function run_callbacks() {\n",
       "    try {\n",
       "      root._bokeh_onload_callbacks.forEach(function(callback) { callback() });\n",
       "    }\n",
       "    finally {\n",
       "      delete root._bokeh_onload_callbacks\n",
       "    }\n",
       "    console.info(\"Bokeh: all callbacks have finished\");\n",
       "  }\n",
       "\n",
       "  function load_libs(js_urls, callback) {\n",
       "    root._bokeh_onload_callbacks.push(callback);\n",
       "    if (root._bokeh_is_loading > 0) {\n",
       "      console.log(\"Bokeh: BokehJS is being loaded, scheduling callback at\", now());\n",
       "      return null;\n",
       "    }\n",
       "    if (js_urls == null || js_urls.length === 0) {\n",
       "      run_callbacks();\n",
       "      return null;\n",
       "    }\n",
       "    console.log(\"Bokeh: BokehJS not loaded, scheduling load and callback at\", now());\n",
       "    root._bokeh_is_loading = js_urls.length;\n",
       "    for (var i = 0; i < js_urls.length; i++) {\n",
       "      var url = js_urls[i];\n",
       "      var s = document.createElement('script');\n",
       "      s.src = url;\n",
       "      s.async = false;\n",
       "      s.onreadystatechange = s.onload = function() {\n",
       "        root._bokeh_is_loading--;\n",
       "        if (root._bokeh_is_loading === 0) {\n",
       "          console.log(\"Bokeh: all BokehJS libraries loaded\");\n",
       "          run_callbacks()\n",
       "        }\n",
       "      };\n",
       "      s.onerror = function() {\n",
       "        console.warn(\"failed to load library \" + url);\n",
       "      };\n",
       "      console.log(\"Bokeh: injecting script tag for BokehJS library: \", url);\n",
       "      document.getElementsByTagName(\"head\")[0].appendChild(s);\n",
       "    }\n",
       "  };var element = document.getElementById(\"1001\");\n",
       "  if (element == null) {\n",
       "    console.log(\"Bokeh: ERROR: autoload.js configured with elementid '1001' but no matching script tag was found. \")\n",
       "    return false;\n",
       "  }\n",
       "\n",
       "  var js_urls = [\"https://cdn.pydata.org/bokeh/release/bokeh-1.0.4.min.js\", \"https://cdn.pydata.org/bokeh/release/bokeh-widgets-1.0.4.min.js\", \"https://cdn.pydata.org/bokeh/release/bokeh-tables-1.0.4.min.js\", \"https://cdn.pydata.org/bokeh/release/bokeh-gl-1.0.4.min.js\"];\n",
       "\n",
       "  var inline_js = [\n",
       "    function(Bokeh) {\n",
       "      Bokeh.set_log_level(\"info\");\n",
       "    },\n",
       "    \n",
       "    function(Bokeh) {\n",
       "      \n",
       "    },\n",
       "    function(Bokeh) {\n",
       "      console.log(\"Bokeh: injecting CSS: https://cdn.pydata.org/bokeh/release/bokeh-1.0.4.min.css\");\n",
       "      Bokeh.embed.inject_css(\"https://cdn.pydata.org/bokeh/release/bokeh-1.0.4.min.css\");\n",
       "      console.log(\"Bokeh: injecting CSS: https://cdn.pydata.org/bokeh/release/bokeh-widgets-1.0.4.min.css\");\n",
       "      Bokeh.embed.inject_css(\"https://cdn.pydata.org/bokeh/release/bokeh-widgets-1.0.4.min.css\");\n",
       "      console.log(\"Bokeh: injecting CSS: https://cdn.pydata.org/bokeh/release/bokeh-tables-1.0.4.min.css\");\n",
       "      Bokeh.embed.inject_css(\"https://cdn.pydata.org/bokeh/release/bokeh-tables-1.0.4.min.css\");\n",
       "    }\n",
       "  ];\n",
       "\n",
       "  function run_inline_js() {\n",
       "    \n",
       "    if ((root.Bokeh !== undefined) || (force === true)) {\n",
       "      for (var i = 0; i < inline_js.length; i++) {\n",
       "        inline_js[i].call(root, root.Bokeh);\n",
       "      }if (force === true) {\n",
       "        display_loaded();\n",
       "      }} else if (Date.now() < root._bokeh_timeout) {\n",
       "      setTimeout(run_inline_js, 100);\n",
       "    } else if (!root._bokeh_failed_load) {\n",
       "      console.log(\"Bokeh: BokehJS failed to load within specified timeout.\");\n",
       "      root._bokeh_failed_load = true;\n",
       "    } else if (force !== true) {\n",
       "      var cell = $(document.getElementById(\"1001\")).parents('.cell').data().cell;\n",
       "      cell.output_area.append_execute_result(NB_LOAD_WARNING)\n",
       "    }\n",
       "\n",
       "  }\n",
       "\n",
       "  if (root._bokeh_is_loading === 0) {\n",
       "    console.log(\"Bokeh: BokehJS loaded, going straight to plotting\");\n",
       "    run_inline_js();\n",
       "  } else {\n",
       "    load_libs(js_urls, function() {\n",
       "      console.log(\"Bokeh: BokehJS plotting callback run at\", now());\n",
       "      run_inline_js();\n",
       "    });\n",
       "  }\n",
       "}(window));"
      ],
      "application/vnd.bokehjs_load.v0+json": "\n(function(root) {\n  function now() {\n    return new Date();\n  }\n\n  var force = true;\n\n  if (typeof (root._bokeh_onload_callbacks) === \"undefined\" || force === true) {\n    root._bokeh_onload_callbacks = [];\n    root._bokeh_is_loading = undefined;\n  }\n\n  \n\n  \n  if (typeof (root._bokeh_timeout) === \"undefined\" || force === true) {\n    root._bokeh_timeout = Date.now() + 5000;\n    root._bokeh_failed_load = false;\n  }\n\n  var NB_LOAD_WARNING = {'data': {'text/html':\n     \"<div style='background-color: #fdd'>\\n\"+\n     \"<p>\\n\"+\n     \"BokehJS does not appear to have successfully loaded. If loading BokehJS from CDN, this \\n\"+\n     \"may be due to a slow or bad network connection. Possible fixes:\\n\"+\n     \"</p>\\n\"+\n     \"<ul>\\n\"+\n     \"<li>re-rerun `output_notebook()` to attempt to load from CDN again, or</li>\\n\"+\n     \"<li>use INLINE resources instead, as so:</li>\\n\"+\n     \"</ul>\\n\"+\n     \"<code>\\n\"+\n     \"from bokeh.resources import INLINE\\n\"+\n     \"output_notebook(resources=INLINE)\\n\"+\n     \"</code>\\n\"+\n     \"</div>\"}};\n\n  function display_loaded() {\n    var el = document.getElementById(\"1001\");\n    if (el != null) {\n      el.textContent = \"BokehJS is loading...\";\n    }\n    if (root.Bokeh !== undefined) {\n      if (el != null) {\n        el.textContent = \"BokehJS \" + root.Bokeh.version + \" successfully loaded.\";\n      }\n    } else if (Date.now() < root._bokeh_timeout) {\n      setTimeout(display_loaded, 100)\n    }\n  }\n\n\n  function run_callbacks() {\n    try {\n      root._bokeh_onload_callbacks.forEach(function(callback) { callback() });\n    }\n    finally {\n      delete root._bokeh_onload_callbacks\n    }\n    console.info(\"Bokeh: all callbacks have finished\");\n  }\n\n  function load_libs(js_urls, callback) {\n    root._bokeh_onload_callbacks.push(callback);\n    if (root._bokeh_is_loading > 0) {\n      console.log(\"Bokeh: BokehJS is being loaded, scheduling callback at\", now());\n      return null;\n    }\n    if (js_urls == null || js_urls.length === 0) {\n      run_callbacks();\n      return null;\n    }\n    console.log(\"Bokeh: BokehJS not loaded, scheduling load and callback at\", now());\n    root._bokeh_is_loading = js_urls.length;\n    for (var i = 0; i < js_urls.length; i++) {\n      var url = js_urls[i];\n      var s = document.createElement('script');\n      s.src = url;\n      s.async = false;\n      s.onreadystatechange = s.onload = function() {\n        root._bokeh_is_loading--;\n        if (root._bokeh_is_loading === 0) {\n          console.log(\"Bokeh: all BokehJS libraries loaded\");\n          run_callbacks()\n        }\n      };\n      s.onerror = function() {\n        console.warn(\"failed to load library \" + url);\n      };\n      console.log(\"Bokeh: injecting script tag for BokehJS library: \", url);\n      document.getElementsByTagName(\"head\")[0].appendChild(s);\n    }\n  };var element = document.getElementById(\"1001\");\n  if (element == null) {\n    console.log(\"Bokeh: ERROR: autoload.js configured with elementid '1001' but no matching script tag was found. \")\n    return false;\n  }\n\n  var js_urls = [\"https://cdn.pydata.org/bokeh/release/bokeh-1.0.4.min.js\", \"https://cdn.pydata.org/bokeh/release/bokeh-widgets-1.0.4.min.js\", \"https://cdn.pydata.org/bokeh/release/bokeh-tables-1.0.4.min.js\", \"https://cdn.pydata.org/bokeh/release/bokeh-gl-1.0.4.min.js\"];\n\n  var inline_js = [\n    function(Bokeh) {\n      Bokeh.set_log_level(\"info\");\n    },\n    \n    function(Bokeh) {\n      \n    },\n    function(Bokeh) {\n      console.log(\"Bokeh: injecting CSS: https://cdn.pydata.org/bokeh/release/bokeh-1.0.4.min.css\");\n      Bokeh.embed.inject_css(\"https://cdn.pydata.org/bokeh/release/bokeh-1.0.4.min.css\");\n      console.log(\"Bokeh: injecting CSS: https://cdn.pydata.org/bokeh/release/bokeh-widgets-1.0.4.min.css\");\n      Bokeh.embed.inject_css(\"https://cdn.pydata.org/bokeh/release/bokeh-widgets-1.0.4.min.css\");\n      console.log(\"Bokeh: injecting CSS: https://cdn.pydata.org/bokeh/release/bokeh-tables-1.0.4.min.css\");\n      Bokeh.embed.inject_css(\"https://cdn.pydata.org/bokeh/release/bokeh-tables-1.0.4.min.css\");\n    }\n  ];\n\n  function run_inline_js() {\n    \n    if ((root.Bokeh !== undefined) || (force === true)) {\n      for (var i = 0; i < inline_js.length; i++) {\n        inline_js[i].call(root, root.Bokeh);\n      }if (force === true) {\n        display_loaded();\n      }} else if (Date.now() < root._bokeh_timeout) {\n      setTimeout(run_inline_js, 100);\n    } else if (!root._bokeh_failed_load) {\n      console.log(\"Bokeh: BokehJS failed to load within specified timeout.\");\n      root._bokeh_failed_load = true;\n    } else if (force !== true) {\n      var cell = $(document.getElementById(\"1001\")).parents('.cell').data().cell;\n      cell.output_area.append_execute_result(NB_LOAD_WARNING)\n    }\n\n  }\n\n  if (root._bokeh_is_loading === 0) {\n    console.log(\"Bokeh: BokehJS loaded, going straight to plotting\");\n    run_inline_js();\n  } else {\n    load_libs(js_urls, function() {\n      console.log(\"Bokeh: BokehJS plotting callback run at\", now());\n      run_inline_js();\n    });\n  }\n}(window));"
     },
     "metadata": {},
     "output_type": "display_data"
    }
   ],
   "source": [
    "from bokeh.io import output_notebook\n",
    "from bokeh.plotting import figure, show\n",
    "\n",
    "output_notebook()"
   ]
  },
  {
   "cell_type": "code",
   "execution_count": 24,
   "metadata": {
    "slideshow": {
     "slide_type": "subslide"
    }
   },
   "outputs": [
    {
     "data": {
      "text/html": [
       "\n",
       "\n",
       "\n",
       "\n",
       "\n",
       "\n",
       "  <div class=\"bk-root\" id=\"902e6822-6e3c-4505-9ea0-2769fa19b72c\" data-root-id=\"1002\"></div>\n"
      ]
     },
     "metadata": {},
     "output_type": "display_data"
    },
    {
     "data": {
      "application/javascript": [
       "(function(root) {\n",
       "  function embed_document(root) {\n",
       "    \n",
       "  var docs_json = {\"e727d02a-7686-4935-ac41-4cc65ae5ba17\":{\"roots\":{\"references\":[{\"attributes\":{\"below\":[{\"id\":\"1011\",\"type\":\"LinearAxis\"}],\"left\":[{\"id\":\"1016\",\"type\":\"LinearAxis\"}],\"plot_height\":300,\"renderers\":[{\"id\":\"1011\",\"type\":\"LinearAxis\"},{\"id\":\"1015\",\"type\":\"Grid\"},{\"id\":\"1016\",\"type\":\"LinearAxis\"},{\"id\":\"1020\",\"type\":\"Grid\"},{\"id\":\"1029\",\"type\":\"BoxAnnotation\"},{\"id\":\"1039\",\"type\":\"GlyphRenderer\"}],\"title\":{\"id\":\"1042\",\"type\":\"Title\"},\"toolbar\":{\"id\":\"1027\",\"type\":\"Toolbar\"},\"toolbar_location\":null,\"x_range\":{\"id\":\"1003\",\"type\":\"Range1d\"},\"x_scale\":{\"id\":\"1007\",\"type\":\"LinearScale\"},\"y_range\":{\"id\":\"1005\",\"type\":\"Range1d\"},\"y_scale\":{\"id\":\"1009\",\"type\":\"LinearScale\"}},\"id\":\"1002\",\"subtype\":\"Figure\",\"type\":\"Plot\"},{\"attributes\":{\"bottom_units\":\"screen\",\"fill_alpha\":{\"value\":0.5},\"fill_color\":{\"value\":\"lightgrey\"},\"left_units\":\"screen\",\"level\":\"overlay\",\"line_alpha\":{\"value\":1.0},\"line_color\":{\"value\":\"black\"},\"line_dash\":[4,4],\"line_width\":{\"value\":2},\"plot\":null,\"render_mode\":\"css\",\"right_units\":\"screen\",\"top_units\":\"screen\"},\"id\":\"1029\",\"type\":\"BoxAnnotation\"},{\"attributes\":{},\"id\":\"1007\",\"type\":\"LinearScale\"},{\"attributes\":{\"callback\":null,\"data\":{\"left\":{\"__ndarray__\":\"AKB77j1iND8bBOqLmr+pP3uI+004q7k/dAcBq1E7wz+rSgQvB6HJP/HGg1leA9A/jGiFGzk20z8oCofdE2nWP8OriJ/um9k/Xk2KYcnO3D9998UR0gDgP0vIxnI/muE/GJnH06wz4z/macg0Gs3kP7Q6yZWHZuY/gQvK9vT/5z9P3MpXYpnpPx2ty7jPMus/6n3MGT3M7D+4Ts16qmXuPw==\",\"dtype\":\"float64\",\"shape\":[20]},\"right\":{\"__ndarray__\":\"GwTqi5q/qT97iPtNOKu5P3QHAatRO8M/q0oELwehyT/xxoNZXgPQP4xohRs5NtM/KAqH3RNp1j/Dq4if7pvZP15NimHJztw/fffFEdIA4D9LyMZyP5rhPxiZx9OsM+M/5mnINBrN5D+0OsmVh2bmP4ELyvb0/+c/T9zKV2KZ6T8drcu4zzLrP+p9zBk9zOw/uE7Neqpl7j+GH87bF//vPw==\",\"dtype\":\"float64\",\"shape\":[20]},\"top\":[52,44,65,50,49,57,49,43,66,43,54,49,48,42,60,47,36,45,50,51]},\"selected\":{\"id\":\"1048\",\"type\":\"Selection\"},\"selection_policy\":{\"id\":\"1047\",\"type\":\"UnionRenderers\"}},\"id\":\"1036\",\"type\":\"ColumnDataSource\"},{\"attributes\":{\"plot\":null,\"text\":\"\"},\"id\":\"1042\",\"type\":\"Title\"},{\"attributes\":{},\"id\":\"1009\",\"type\":\"LinearScale\"},{\"attributes\":{},\"id\":\"1043\",\"type\":\"BasicTickFormatter\"},{\"attributes\":{\"formatter\":{\"id\":\"1043\",\"type\":\"BasicTickFormatter\"},\"plot\":{\"id\":\"1002\",\"subtype\":\"Figure\",\"type\":\"Plot\"},\"ticker\":{\"id\":\"1012\",\"type\":\"BasicTicker\"}},\"id\":\"1011\",\"type\":\"LinearAxis\"},{\"attributes\":{\"bottom\":{\"value\":0},\"fill_alpha\":{\"value\":0.1},\"fill_color\":{\"value\":\"#1f77b4\"},\"left\":{\"field\":\"left\"},\"line_alpha\":{\"value\":0.1},\"line_color\":{\"value\":\"#1f77b4\"},\"right\":{\"field\":\"right\"},\"top\":{\"field\":\"top\"}},\"id\":\"1038\",\"type\":\"Quad\"},{\"attributes\":{},\"id\":\"1045\",\"type\":\"BasicTickFormatter\"},{\"attributes\":{},\"id\":\"1012\",\"type\":\"BasicTicker\"},{\"attributes\":{},\"id\":\"1047\",\"type\":\"UnionRenderers\"},{\"attributes\":{\"grid_line_color\":{\"value\":null},\"plot\":{\"id\":\"1002\",\"subtype\":\"Figure\",\"type\":\"Plot\"},\"ticker\":{\"id\":\"1012\",\"type\":\"BasicTicker\"}},\"id\":\"1015\",\"type\":\"Grid\"},{\"attributes\":{},\"id\":\"1048\",\"type\":\"Selection\"},{\"attributes\":{\"bottom\":{\"value\":0},\"fill_color\":{\"value\":\"purple\"},\"left\":{\"field\":\"left\"},\"line_color\":{\"value\":\"white\"},\"right\":{\"field\":\"right\"},\"top\":{\"field\":\"top\"}},\"id\":\"1037\",\"type\":\"Quad\"},{\"attributes\":{\"formatter\":{\"id\":\"1045\",\"type\":\"BasicTickFormatter\"},\"major_label_orientation\":0.7853981633974483,\"plot\":{\"id\":\"1002\",\"subtype\":\"Figure\",\"type\":\"Plot\"},\"ticker\":{\"id\":\"1017\",\"type\":\"BasicTicker\"}},\"id\":\"1016\",\"type\":\"LinearAxis\"},{\"attributes\":{},\"id\":\"1017\",\"type\":\"BasicTicker\"},{\"attributes\":{\"dimension\":1,\"plot\":{\"id\":\"1002\",\"subtype\":\"Figure\",\"type\":\"Plot\"},\"ticker\":{\"id\":\"1017\",\"type\":\"BasicTicker\"}},\"id\":\"1020\",\"type\":\"Grid\"},{\"attributes\":{\"active_drag\":\"auto\",\"active_inspect\":\"auto\",\"active_multi\":null,\"active_scroll\":\"auto\",\"active_tap\":\"auto\",\"tools\":[{\"id\":\"1021\",\"type\":\"PanTool\"},{\"id\":\"1022\",\"type\":\"WheelZoomTool\"},{\"id\":\"1023\",\"type\":\"BoxZoomTool\"},{\"id\":\"1024\",\"type\":\"SaveTool\"},{\"id\":\"1025\",\"type\":\"ResetTool\"},{\"id\":\"1026\",\"type\":\"HelpTool\"}]},\"id\":\"1027\",\"type\":\"Toolbar\"},{\"attributes\":{\"source\":{\"id\":\"1036\",\"type\":\"ColumnDataSource\"}},\"id\":\"1040\",\"type\":\"CDSView\"},{\"attributes\":{},\"id\":\"1021\",\"type\":\"PanTool\"},{\"attributes\":{\"data_source\":{\"id\":\"1036\",\"type\":\"ColumnDataSource\"},\"glyph\":{\"id\":\"1037\",\"type\":\"Quad\"},\"hover_glyph\":null,\"muted_glyph\":null,\"nonselection_glyph\":{\"id\":\"1038\",\"type\":\"Quad\"},\"selection_glyph\":null,\"view\":{\"id\":\"1040\",\"type\":\"CDSView\"}},\"id\":\"1039\",\"type\":\"GlyphRenderer\"},{\"attributes\":{},\"id\":\"1022\",\"type\":\"WheelZoomTool\"},{\"attributes\":{\"overlay\":{\"id\":\"1029\",\"type\":\"BoxAnnotation\"}},\"id\":\"1023\",\"type\":\"BoxZoomTool\"},{\"attributes\":{},\"id\":\"1024\",\"type\":\"SaveTool\"},{\"attributes\":{},\"id\":\"1025\",\"type\":\"ResetTool\"},{\"attributes\":{\"callback\":null},\"id\":\"1003\",\"type\":\"Range1d\"},{\"attributes\":{},\"id\":\"1026\",\"type\":\"HelpTool\"},{\"attributes\":{\"callback\":null,\"end\":100},\"id\":\"1005\",\"type\":\"Range1d\"}],\"root_ids\":[\"1002\"]},\"title\":\"Bokeh Application\",\"version\":\"1.0.4\"}};\n",
       "  var render_items = [{\"docid\":\"e727d02a-7686-4935-ac41-4cc65ae5ba17\",\"roots\":{\"1002\":\"902e6822-6e3c-4505-9ea0-2769fa19b72c\"}}];\n",
       "  root.Bokeh.embed.embed_items_notebook(docs_json, render_items);\n",
       "\n",
       "  }\n",
       "  if (root.Bokeh !== undefined) {\n",
       "    embed_document(root);\n",
       "  } else {\n",
       "    var attempts = 0;\n",
       "    var timer = setInterval(function(root) {\n",
       "      if (root.Bokeh !== undefined) {\n",
       "        embed_document(root);\n",
       "        clearInterval(timer);\n",
       "      }\n",
       "      attempts++;\n",
       "      if (attempts > 100) {\n",
       "        console.log(\"Bokeh: ERROR: Unable to run BokehJS code because BokehJS library is missing\");\n",
       "        clearInterval(timer);\n",
       "      }\n",
       "    }, 10, root)\n",
       "  }\n",
       "})(window);"
      ],
      "application/vnd.bokehjs_exec.v0+json": ""
     },
     "metadata": {
      "application/vnd.bokehjs_exec.v0+json": {
       "id": "1002"
      }
     },
     "output_type": "display_data"
    }
   ],
   "source": [
    "# On génère les données, et les dimensions des 20 boites (bins) :\n",
    "data = np.random.uniform(0, 1, 1000)\n",
    "hhist, hedges = np.histogram(data, bins=20)\n",
    "\n",
    "# Création d'une figure en choisissant les dimensions des axes \n",
    "ph = figure(toolbar_location=None,x_range=(0, 1), y_range=(0, 100), plot_height=300)\n",
    "\n",
    "# Personnalitation rapide\n",
    "ph.xgrid.grid_line_color = None\n",
    "ph.yaxis.major_label_orientation = np.pi/4\n",
    "\n",
    "# Ajout des rectangles\n",
    "ph.quad(bottom=0, left=hedges[:-1], right=hedges[1:], top=hhist, color=\"purple\", line_color=\"white\")\n",
    "\n",
    "show(ph)"
   ]
  },
  {
   "cell_type": "markdown",
   "metadata": {
    "slideshow": {
     "slide_type": "subslide"
    }
   },
   "source": [
    "### Interagir avec R / Embarquer R dans un code Python"
   ]
  },
  {
   "cell_type": "markdown",
   "metadata": {
    "slideshow": {
     "slide_type": "fragment"
    }
   },
   "source": [
    "- Fonctionnalité fournie par [**RPy2**](https://rpy2.readthedocs.io) : https://rpy2.readthedocs.io"
   ]
  },
  {
   "cell_type": "markdown",
   "metadata": {
    "slideshow": {
     "slide_type": "fragment"
    }
   },
   "source": [
    "- Disponible dans les *notebook Jupyter* avec une commande spéciale **IPython** `%%R`"
   ]
  },
  {
   "cell_type": "code",
   "execution_count": 25,
   "metadata": {
    "slideshow": {
     "slide_type": "fragment"
    }
   },
   "outputs": [],
   "source": [
    "%load_ext rpy2.ipython"
   ]
  },
  {
   "cell_type": "code",
   "execution_count": 26,
   "metadata": {
    "slideshow": {
     "slide_type": "fragment"
    }
   },
   "outputs": [
    {
     "data": {
      "text/plain": [
       "[1] 0.5079173\n"
      ]
     },
     "metadata": {},
     "output_type": "display_data"
    }
   ],
   "source": [
    "%%R\n",
    "mean(runif(100))"
   ]
  },
  {
   "cell_type": "code",
   "execution_count": 27,
   "metadata": {
    "slideshow": {
     "slide_type": "subslide"
    }
   },
   "outputs": [],
   "source": [
    "%%R\n",
    "a = runif(100)"
   ]
  },
  {
   "cell_type": "code",
   "execution_count": 28,
   "metadata": {
    "slideshow": {
     "slide_type": "fragment"
    }
   },
   "outputs": [
    {
     "ename": "NameError",
     "evalue": "name 'a' is not defined",
     "output_type": "error",
     "traceback": [
      "\u001b[0;31m---------------------------------------------------------------------------\u001b[0m",
      "\u001b[0;31mNameError\u001b[0m                                 Traceback (most recent call last)",
      "\u001b[0;32m<ipython-input-28-9e881d4add57>\u001b[0m in \u001b[0;36m<module>\u001b[0;34m\u001b[0m\n\u001b[1;32m      2\u001b[0m \u001b[0;31m# ne sont pas (automatiquement) disponibles dans le scope\u001b[0m\u001b[0;34m\u001b[0m\u001b[0;34m\u001b[0m\u001b[0;34m\u001b[0m\u001b[0m\n\u001b[1;32m      3\u001b[0m \u001b[0;31m# des cellules Python\u001b[0m\u001b[0;34m\u001b[0m\u001b[0;34m\u001b[0m\u001b[0;34m\u001b[0m\u001b[0m\n\u001b[0;32m----> 4\u001b[0;31m \u001b[0ma\u001b[0m\u001b[0;34m\u001b[0m\u001b[0;34m\u001b[0m\u001b[0m\n\u001b[0m",
      "\u001b[0;31mNameError\u001b[0m: name 'a' is not defined"
     ]
    }
   ],
   "source": [
    "# Attention, les variables affectée de cette manière\n",
    "# ne sont pas (automatiquement) disponibles dans le scope\n",
    "# des cellules Python\n",
    "a"
   ]
  },
  {
   "cell_type": "markdown",
   "metadata": {
    "slideshow": {
     "slide_type": "subslide"
    }
   },
   "source": [
    "**On peut toutefois convertir explicitement certains objets Python pour les utiliser directement dans ces cellules R et spécifier quelles variables R doivent être exportées vers Python à la fin de l'éxécution de la cellule :**"
   ]
  },
  {
   "cell_type": "code",
   "execution_count": 29,
   "metadata": {
    "slideshow": {
     "slide_type": "fragment"
    }
   },
   "outputs": [],
   "source": [
    "# Créons deux tableaux NumPy :\n",
    "x = np.array([1, 2, 4, 6, 5, 8])\n",
    "y = np.array([0, 1, 3, 2, 5, 7])"
   ]
  },
  {
   "cell_type": "code",
   "execution_count": 30,
   "metadata": {
    "slideshow": {
     "slide_type": "subslide"
    }
   },
   "outputs": [
    {
     "data": {
      "image/png": "[encoded data removed]"
     },
     "metadata": {},
     "output_type": "display_data"
    }
   ],
   "source": [
    "%%R -i x,y -o my_coef\n",
    "#   ^^ avec -i et le(s) nom(s) de variable(s) Python à utiliser en R\n",
    "#          ^^ avec -o et pour la sortie R vers Python\n",
    "xylm = lm(y~x)\n",
    "my_coef = coef(xylm)\n",
    "par(mfrow=c(2,2))\n",
    "plot(xylm)"
   ]
  },
  {
   "cell_type": "code",
   "execution_count": 31,
   "metadata": {
    "slideshow": {
     "slide_type": "subslide"
    }
   },
   "outputs": [
    {
     "data": {
      "text/plain": [
       "array([-0.77,  0.87])"
      ]
     },
     "execution_count": 31,
     "metadata": {},
     "output_type": "execute_result"
    }
   ],
   "source": [
    "# La variable my_coef est bien accessible en Python :\n",
    "my_coef"
   ]
  },
  {
   "cell_type": "markdown",
   "metadata": {
    "slideshow": {
     "slide_type": "subslide"
    }
   },
   "source": [
    "- Permet une réelle intégration de __R__ dans **Python** (création d'une application web en Python qui exposerait une console R, etc.), en utilisant les différents modules de **rpy2** on va pouvoir utiliser les différentes fonctionnalitées de R et des packages qu'on va importer avec une granularité très fine."
   ]
  },
  {
   "cell_type": "markdown",
   "metadata": {
    "slideshow": {
     "slide_type": "subslide"
    }
   },
   "source": [
    "_**Exemple d'utilisation des fonctionnalitées de R, entièrement en Python**_\n",
    "\n",
    "Le code R natif qu'on veut mobiliser est le suivant : \n",
    "\n",
    "```R\n",
    "ctl <- c(4.17,5.58,5.18,6.11,4.50,4.61,5.17,4.53,5.33,5.14)\n",
    "trt <- c(4.81,4.17,4.41,3.59,5.87,3.83,6.03,4.89,4.32,4.69)\n",
    "group <- gl(2, 10, 20, labels = c(\"Ctl\",\"Trt\"))\n",
    "weight <- c(ctl, trt)\n",
    "\n",
    "anova(lm.D9 <- lm(weight ~ group))\n",
    "\n",
    "summary(lm.D90 <- lm(weight ~ group - 1))# omitting intercept\n",
    "```"
   ]
  },
  {
   "cell_type": "markdown",
   "metadata": {
    "slideshow": {
     "slide_type": "subslide"
    }
   },
   "source": [
    "Utilisation du module *rpy2.robjects* qui permet d'appeler les différentes fonctionnalités R :"
   ]
  },
  {
   "cell_type": "code",
   "execution_count": 35,
   "metadata": {
    "scrolled": true,
    "slideshow": {
     "slide_type": "fragment"
    }
   },
   "outputs": [
    {
     "name": "stdout",
     "output_type": "stream",
     "text": [
      "Analysis of Variance Table\n",
      "\n",
      "Response: weight\n",
      "          Df Sum Sq Mean Sq F value Pr(>F)\n",
      "group      1 0.6882 0.68820  1.4191  0.249\n",
      "Residuals 18 8.7293 0.48496               \n",
      "\n",
      "\n",
      "Call:\n",
      "(function (formula, data, subset, weights, na.action, method = \"qr\", \n",
      "    model = TRUE, x = FALSE, y = FALSE, qr = TRUE, singular.ok = TRUE, \n",
      "    contrasts = NULL, offset, ...) \n",
      "{\n",
      "    ret.x <- x\n",
      "    ret.y <- y\n",
      "    cl <- match.call()\n",
      "    mf <- match.call(expand.dots = FALSE)\n",
      "    m <- match(c(\"formula\", \"data\", \"subset\", \"weights\", \"na.action\", \n",
      "        \"offset\"), names(mf), 0L)\n",
      "    mf <- mf[c(1L, m)]\n",
      "    mf$drop.unused.levels <- TRUE\n",
      "    mf[[1L]] <- quote(stats::model.frame)\n",
      "    mf <- eval(mf, parent.frame())\n",
      "    if (method == \"model.frame\") \n",
      "        return(mf)\n",
      "    else if (method != \"qr\") \n",
      "        warning(gettextf(\"method = '%s' is not supported. Using 'qr'\", \n",
      "            method), domain = NA)\n",
      "    mt <- attr(mf, \"terms\")\n",
      "    y <- model.response(mf, \"numeric\")\n",
      "    w <- as.vector(model.weights(mf))\n",
      "    if (!is.null(w) && !is.numeric(w)) \n",
      "        stop(\"'weights' must be a numeric vector\")\n",
      "    offset <- as.vector(model.offset(mf))\n",
      "    if (!is.null(offset)) {\n",
      "        if (length(offset) != NROW(y)) \n",
      "            stop(gettextf(\"number of offsets is %d, should equal %d (number of observations)\", \n",
      "                length(offset), NROW(y)), domain = NA)\n",
      "    }\n",
      "    if (is.empty.model(mt)) {\n",
      "        x <- NULL\n",
      "        z <- list(coefficients = if (is.matrix(y)) matrix(, 0, \n",
      "            3) else numeric(), residuals = y, fitted.values = 0 * \n",
      "            y, weights = w, rank = 0L, df.residual = if (!is.null(w)) sum(w != \n",
      "            0) else if (is.matrix(y)) nrow(y) else length(y))\n",
      "        if (!is.null(offset)) {\n",
      "            z$fitted.values <- offset\n",
      "            z$residuals <- y - offset\n",
      "        }\n",
      "    }\n",
      "    else {\n",
      "        x <- model.matrix(mt, mf, contrasts)\n",
      "        z <- if (is.null(w)) \n",
      "            lm.fit(x, y, offset = offset, singular.ok = singular.ok, \n",
      "                ...)\n",
      "        else lm.wfit(x, y, w, offset = offset, singular.ok = singular.ok, \n",
      "            ...)\n",
      "    }\n",
      "    class(z) <- c(if (is.matrix(y)) \"mlm\", \"lm\")\n",
      "    z$na.action <- attr(mf, \"na.action\")\n",
      "    z$offset <- offset\n",
      "    z$contrasts <- attr(x, \"contrasts\")\n",
      "    z$xlevels <- .getXlevels(mt, mf)\n",
      "    z$call <- cl\n",
      "    z$terms <- mt\n",
      "    if (model) \n",
      "        z$model <- mf\n",
      "    if (ret.x) \n",
      "        z$x <- x\n",
      "    if (ret.y) \n",
      "        z$y <- y\n",
      "    if (!qr) \n",
      "        z$qr <- NULL\n",
      "    z\n",
      "})(formula = \"weight ~ group - 1\")\n",
      "\n",
      "Residuals:\n",
      "    Min      1Q  Median      3Q     Max \n",
      "-1.0710 -0.4938  0.0685  0.2462  1.3690 \n",
      "\n",
      "Coefficients:\n",
      "         Estimate Std. Error t value Pr(>|t|)    \n",
      "groupCtl   5.0320     0.2202   22.85 9.55e-15 ***\n",
      "groupTrt   4.6610     0.2202   21.16 3.62e-14 ***\n",
      "---\n",
      "Signif. codes:  0 ‘***’ 0.001 ‘**’ 0.01 ‘*’ 0.05 ‘.’ 0.1 ‘ ’ 1\n",
      "\n",
      "Residual standard error: 0.6964 on 18 degrees of freedom\n",
      "Multiple R-squared:  0.9818,\tAdjusted R-squared:  0.9798 \n",
      "F-statistic: 485.1 on 2 and 18 DF,  p-value: < 2.2e-16\n",
      "\n",
      "\n"
     ]
    }
   ],
   "source": [
    "import rpy2.robjects as robjects\n",
    "from rpy2.robjects import FloatVector\n",
    "from rpy2.robjects.packages import importr\n",
    "stats = importr('stats')\n",
    "base = importr('base')\n",
    "\n",
    "ctl = FloatVector([4.17,5.58,5.18,6.11,4.50,4.61,5.17,4.53,5.33,5.14])\n",
    "trt = FloatVector([4.81,4.17,4.41,3.59,5.87,3.83,6.03,4.89,4.32,4.69])\n",
    "group = base.gl(2, 10, 20, labels = [\"Ctl\",\"Trt\"])\n",
    "weight = ctl + trt\n",
    "\n",
    "# Pour les utiliser dans une formule,\n",
    "# on doit explicitement mettre les variables\n",
    "# approprié dans l'environnement global de R\n",
    "robjects.globalenv[\"weight\"] = weight\n",
    "robjects.globalenv[\"group\"] = group\n",
    "lm_D9 = stats.lm(\"weight ~ group\")\n",
    "print(stats.anova(lm_D9))\n",
    "\n",
    "lm_D90 = stats.lm(\"weight ~ group - 1\") # omitting intercept\n",
    "print(base.summary(lm_D90))"
   ]
  },
  {
   "cell_type": "markdown",
   "metadata": {
    "slideshow": {
     "slide_type": "slide"
    }
   },
   "source": [
    "### Partie suivante ...\n",
    "\n",
    "#### 4. [Préparation et analyse de données (lignes/colonnes) et lien avec R](Pydata.slides.html)"
   ]
  }
 ],
 "metadata": {
  "celltoolbar": "Diaporama",
  "kernelspec": {
   "display_name": "Python 3",
   "language": "python",
   "name": "python3"
  },
  "language_info": {
   "codemirror_mode": {
    "name": "ipython",
    "version": 3
   },
   "file_extension": ".py",
   "mimetype": "text/x-python",
   "name": "python",
   "nbconvert_exporter": "python",
   "pygments_lexer": "ipython3",
   "version": "3.6.7"
  }
 },
 "nbformat": 4,
 "nbformat_minor": 2
}

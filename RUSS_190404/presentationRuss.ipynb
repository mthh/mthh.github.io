{
 "cells": [
  {
   "cell_type": "markdown",
   "metadata": {
    "slideshow": {
     "slide_type": "slide"
    }
   },
   "source": [
    "<div style=\"margin: auto; text-align: center;\">\n",
    "        <h2>Séminaire RUSS - 4 Avril 2019</h2>\n",
    "</div>\n",
    "\n",
    "<div style=\"margin: auto; text-align: center;\">\n",
    "<img style=\"margin: auto; height: 70px; width: auto;\" src=\"img/russ_thumbnail.png\" />\n",
    "</div>\n",
    "\n",
    "<div style=\"margin: auto; text-align: center; margin: 100px 10px 80px;\">\n",
    "    <h1>Introduction Python pour les utilisateurs de R</h1>\n",
    "    <h5>Slides : <a href=\"https://mthh.github.io/RUSS_190404/\">https://mthh.github.io/RUSS_190404/</a></h5>\n",
    "</div>\n",
    "\n",
    "<div style=\"width: 30%;margin: auto; display: flex; float: left;\">\n",
    "    <div style=\"margin: auto;\">\n",
    "    <img style=\"height: 60px; width: auto;\" src=\"img/lig_logo.png\" />\n",
    "    </div>\n",
    "    <div style=\"margin: auto;\">\n",
    "    <img style=\"height: 40px; width: auto;\" src=\"img/uga_logo.png\" />\n",
    "    </div>\n",
    "    <div style=\"margin: auto;\">\n",
    "    <img style=\"height: 40px; width: auto;\" src=\"img/cnrs_logo.png\" />\n",
    "    </div>\n",
    "    <div style=\"margin: auto;\">\n",
    "    <img style=\"height: 40px; width: auto;\" src=\"img/inpg_logo.png\" />\n",
    "    </div>\n",
    "</div>\n",
    "\n",
    "<div style=\"margin: auto; text-align: right; font-style: italic;\">\n",
    "    <span>Matthieu Viry (matthieu.viry@univ-grenoble-alpes.fr)</span><br><span>Laboratoire d'informatique de Grenoble</span><br><span> (Univ. Grenoble Alpes / CNRS / Grenoble INP)</span>\n",
    "</div>\n",
    "\n",
    "\n"
   ]
  },
  {
   "cell_type": "code",
   "execution_count": 1,
   "metadata": {
    "slideshow": {
     "slide_type": "skip"
    }
   },
   "outputs": [],
   "source": [
    "from IPython.core.interactiveshell import InteractiveShell\n",
    "from IPython.display import HTML, IFrame\n",
    "InteractiveShell.ast_node_interactivity = \"all\""
   ]
  },
  {
   "cell_type": "markdown",
   "metadata": {
    "slideshow": {
     "slide_type": "slide"
    }
   },
   "source": [
    "Au programme :\n",
    "\n",
    "- présentation du langage Python (spécificités, fondements, etc.)\n",
    "- **calcul scientifique** (*Numpy* et *matplotlib*)\n",
    "- **préparation et analyse de données** (*Pandas* et *RPy2*)\n",
    "- analyse statistique, modélisation et apprentissage (*Scipy*, *statsmodels* et *scikit-learn*)\n",
    "- manipulation de **données géospatiales** (*geopandas*, *shapely* et *rasterio*)\n",
    "- **publication de données sur le Web** (*Dash* et *hug*)"
   ]
  },
  {
   "cell_type": "markdown",
   "metadata": {
    "slideshow": {
     "slide_type": "slide"
    }
   },
   "source": [
    "Avec des liens !\n",
    "\n",
    "1. [Présentation du language Python](#)\n",
    "2. [Conseils sur la *stack* techno mobilisable](StackPythonInstall.slides.html)\n",
    "3. [Calcul scientifique et visualisation de données](CalculVisu.slides.html)\n",
    "4. [Préparation et analyse de données (lignes/colonnes) et lien avec R](Pydata.slides.html)\n",
    "5. [Analyse statistique, modélisation et apprentissage](StatsML.slides.html)\n",
    "6. [Manipulation de données géospatiales](ManipulationGeospatiale.slides.html)\n",
    "7. [Publication sur le web](web.slides.html)\n",
    "8. [Discussions](RetourDiscussion.slides.html)"
   ]
  },
  {
   "cell_type": "markdown",
   "metadata": {
    "slideshow": {
     "slide_type": "slide"
    }
   },
   "source": [
    "<img src=\"img/python_logo.png\" style=\"height: 200px; width: auto;\"/>\n",
    "\n",
    "**Python** :"
   ]
  },
  {
   "cell_type": "markdown",
   "metadata": {
    "slideshow": {
     "slide_type": "fragment"
    }
   },
   "source": [
    "- **Libre** (régit par la *Python Software Foundation License*, équivalent à BSD)"
   ]
  },
  {
   "cell_type": "markdown",
   "metadata": {
    "slideshow": {
     "slide_type": "fragment"
    }
   },
   "source": [
    "- Créé dans les années 90."
   ]
  },
  {
   "cell_type": "markdown",
   "metadata": {
    "slideshow": {
     "slide_type": "fragment"
    }
   },
   "source": [
    "- Langage de **haut niveau**, **interprété**, **multi-paradigme** (impératif, fonctionnel, OO, ..)"
   ]
  },
  {
   "cell_type": "markdown",
   "metadata": {
    "slideshow": {
     "slide_type": "skip"
    }
   },
   "source": [
    "- Langage orienté-objet (*héritage multiple*, *surcharge des opérateurs*)"
   ]
  },
  {
   "cell_type": "markdown",
   "metadata": {
    "slideshow": {
     "slide_type": "notes"
    }
   },
   "source": [
    "Python est orienté-objet. Il supporte **l'héritage multiple** et la **surcharge des opérateurs**.\n",
    "En Python toutes les données manipulées (y compris les types primitifs telles que les nombres et les chaînes de caractères) sont des objets : entier, flottant, liste, dictionnaire, etc. sont tous des objets.\n",
    "\n",
    "Les objets de même nature ont le même type.\n",
    "\n",
    "Ces objets contiennent notamment : des propriétés et des méthodes (qu'on va parfois retrouver sous le terme d'attributs).\n",
    "Les propriétés permettent de stocker la valeur de l’objet et les méthodes représentent les fonctions permettant de manipuler la valeur de l’objet."
   ]
  },
  {
   "cell_type": "markdown",
   "metadata": {
    "slideshow": {
     "slide_type": "fragment"
    }
   },
   "source": [
    "- Présence d'un **système de gestion des erreurs** et d'une **gestion automatique de la mémoire** (par comptage des références)"
   ]
  },
  {
   "cell_type": "markdown",
   "metadata": {
    "slideshow": {
     "slide_type": "fragment"
    }
   },
   "source": [
    "- **Typage dynamique fort** (et *duck typing*)"
   ]
  },
  {
   "cell_type": "markdown",
   "metadata": {
    "slideshow": {
     "slide_type": "slide"
    }
   },
   "source": [
    "### Premiers pas en Python"
   ]
  },
  {
   "cell_type": "markdown",
   "metadata": {
    "slideshow": {
     "slide_type": "slide"
    }
   },
   "source": [
    "#### L'intérpréteur fournit par défaut"
   ]
  },
  {
   "cell_type": "markdown",
   "metadata": {
    "slideshow": {
     "slide_type": "subslide"
    }
   },
   "source": [
    "- Éxécuter un script python :\n",
    "\n",
    "```sh\n",
    "python mon_script.py\n",
    "```\n",
    "\n",
    "- Ouvrir un intepréteur interactif : \n",
    "\n",
    "```sh\n",
    "python\n",
    "```\n",
    "\n",
    "- Exemple :\n",
    "\n",
    "```bash\n",
    "mthh@mthh:~$ python3\n",
    "\n",
    "Python 3.6.7 (default, Oct 22 2018, 11:32:17)\n",
    "[GCC 8.2.0] on linux\n",
    "Type \"help\", \"copyright\", \"credits\" or \"license\" for more information.\n",
    ">>> print('Hello!')\n",
    "Hello!\n",
    ">>> 38\n",
    "38\n",
    ">>> exit()\n",
    "```"
   ]
  },
  {
   "cell_type": "markdown",
   "metadata": {
    "slideshow": {
     "slide_type": "subslide"
    }
   },
   "source": [
    "- Comparable à taper \n",
    "\n",
    "```bash\n",
    "mthh@mthh:~$ R\n",
    "\n",
    "R version 3.4.4 (2018-03-15) -- \"Someone to Lean On\"\n",
    "Copyright (C) 2018 The R Foundation for Statistical Computing\n",
    "Platform: x86_64-pc-linux-gnu (64-bit)\n",
    "\n",
    "R est un logiciel libre livré sans AUCUNE GARANTIE.\n",
    "Vous pouvez le redistribuer sous certaines conditions.\n",
    "Tapez 'license()' ou 'licence()' pour plus de détails.\n",
    "\n",
    "R est un projet collaboratif avec de nombreux contributeurs.\n",
    "Tapez 'contributors()' pour plus d'information et\n",
    "'citation()' pour la façon de le citer dans les publications.\n",
    "\n",
    "Tapez 'demo()' pour des démonstrations, 'help()' pour l'aide\n",
    "en ligne ou 'help.start()' pour obtenir l'aide au format HTML.\n",
    "Tapez 'q()' pour quitter R.\n",
    "\n",
    "[Sauvegarde de la session précédente restaurée]\n",
    "\n",
    "> print('Hello!')\n",
    "[1] \"Hello!\"\n",
    "> q('no')\n",
    "```"
   ]
  },
  {
   "cell_type": "markdown",
   "metadata": {
    "slideshow": {
     "slide_type": "subslide"
    }
   },
   "source": [
    "- On utilisera **IPython** par la suite, un terminal interactif très riche.\n",
    "\n",
    "\n",
    "```bash\n",
    "mthh@mthh:~$ ipython3\n",
    "\n",
    "Python 3.6.7 (default, Oct 22 2018, 11:32:17)\n",
    "Type 'copyright', 'credits' or 'license' for more information\n",
    "IPython 7.4.0 -- An enhanced Interactive Python. Type '?' for help.\n",
    "\n",
    "In [1]: print('Hello!')\n",
    "Hello!\n",
    "\n",
    "In [2]: 12\n",
    "Out[2]: 12\n",
    "\n",
    "In [3]: exit()\n",
    "```"
   ]
  },
  {
   "cell_type": "markdown",
   "metadata": {
    "slideshow": {
     "slide_type": "fragment"
    }
   },
   "source": [
    "- Pas depuis un terminal système, mais depuis l'un des **IDE** présentés ensuite et qui offrent des environnements __*MATLAB-like*__, proche de l'environnement également offert par **RStudio**."
   ]
  },
  {
   "cell_type": "markdown",
   "metadata": {
    "slideshow": {
     "slide_type": "notes"
    }
   },
   "source": [
    "Python est dynamique : l'interpréteur peut évaluer des chaînes de caractères représentant des expressions ou des instructions Python. Il s'agit d'un langage *interprété* (comme le Java ou le Perl) à l'inverse de langage comme le C, le C++ ou le Pascal qui sont *compilés*.\n",
    "\n",
    "Les langages compilés vont nécessiter de transformer le code source en code binaire (langage machine) lors d'une opération appelée la *compilation*.\n",
    "Cette opération produit un fichier éxécutable dépendant du système d'exploitation et est à effectuer à chaque modification du code source.\n",
    "\n",
    "Dans le cas d'un langage interprété (l'expression \"langage de script\" est synonyme), les instructions (le code source) sont \"transcrites\" par un *interpréteur* en langage machine au fur et à mesure de leur lecture.\n",
    "L'éxécution d'un script écrit en Python est donc conditionnée par la présence de l'intepréteur Python (comme le serait du code Java avec la JVM par exemple).\n"
   ]
  },
  {
   "cell_type": "markdown",
   "metadata": {
    "slideshow": {
     "slide_type": "slide"
    }
   },
   "source": [
    "#### Les types de données de base "
   ]
  },
  {
   "cell_type": "markdown",
   "metadata": {
    "slideshow": {
     "slide_type": "subslide"
    }
   },
   "source": [
    "##### Entier (int)"
   ]
  },
  {
   "cell_type": "code",
   "execution_count": 2,
   "metadata": {
    "slideshow": {
     "slide_type": "fragment"
    }
   },
   "outputs": [
    {
     "name": "stdout",
     "output_type": "stream",
     "text": [
      "12 \n",
      " <class 'int'>\n"
     ]
    }
   ],
   "source": [
    "a = 12\n",
    "print(a, '\\n', type(a))"
   ]
  },
  {
   "cell_type": "markdown",
   "metadata": {
    "slideshow": {
     "slide_type": "subslide"
    }
   },
   "source": [
    "##### Flottant (float)"
   ]
  },
  {
   "cell_type": "code",
   "execution_count": 3,
   "metadata": {
    "slideshow": {
     "slide_type": "fragment"
    }
   },
   "outputs": [
    {
     "name": "stdout",
     "output_type": "stream",
     "text": [
      "12.3 \n",
      " <class 'float'>\n",
      "False\n"
     ]
    }
   ],
   "source": [
    "a = 12.3\n",
    "print(a, '\\n', type(a))\n",
    "print(a.is_integer())"
   ]
  },
  {
   "cell_type": "markdown",
   "metadata": {
    "slideshow": {
     "slide_type": "subslide"
    }
   },
   "source": [
    "##### Booléen (bool)"
   ]
  },
  {
   "cell_type": "code",
   "execution_count": 4,
   "metadata": {
    "slideshow": {
     "slide_type": "fragment"
    }
   },
   "outputs": [
    {
     "name": "stdout",
     "output_type": "stream",
     "text": [
      "False \n",
      " <class 'bool'>\n"
     ]
    }
   ],
   "source": [
    "a = True\n",
    "b = not a\n",
    "print(b, '\\n', type(b))"
   ]
  },
  {
   "cell_type": "markdown",
   "metadata": {
    "slideshow": {
     "slide_type": "subslide"
    }
   },
   "source": [
    "##### Liste (list)\n",
    "\n",
    "Les listes en Python peuvent contenir des objets hétérogènes."
   ]
  },
  {
   "cell_type": "code",
   "execution_count": 5,
   "metadata": {
    "slideshow": {
     "slide_type": "fragment"
    }
   },
   "outputs": [
    {
     "data": {
      "text/plain": [
       "[1, 'yo', [1, 2, 3], 4, 23.9, 'Une autre chaine de caractères']"
      ]
     },
     "execution_count": 5,
     "metadata": {},
     "output_type": "execute_result"
    }
   ],
   "source": [
    "a = []\n",
    "a.append(1)\n",
    "a.append(\"yo\")\n",
    "a.append([1, 2, 3])\n",
    "a.append(4)\n",
    "a.append(23.9)\n",
    "a.append(\"Une autre chaine de caractères\")\n",
    "a"
   ]
  },
  {
   "cell_type": "markdown",
   "metadata": {
    "slideshow": {
     "slide_type": "fragment"
    }
   },
   "source": [
    "On va utiliser les crochets pour indexer les éléments de la listes (*en Python on commence à compter à 0*)"
   ]
  },
  {
   "cell_type": "code",
   "execution_count": 6,
   "metadata": {
    "slideshow": {
     "slide_type": "subslide"
    }
   },
   "outputs": [
    {
     "data": {
      "text/plain": [
       "1"
      ]
     },
     "execution_count": 6,
     "metadata": {},
     "output_type": "execute_result"
    },
    {
     "data": {
      "text/plain": [
       "[1, 2, 3]"
      ]
     },
     "execution_count": 6,
     "metadata": {},
     "output_type": "execute_result"
    },
    {
     "data": {
      "text/plain": [
       "'Une autre chaine de caractères'"
      ]
     },
     "execution_count": 6,
     "metadata": {},
     "output_type": "execute_result"
    }
   ],
   "source": [
    "a[0] # <- Le premier élément de la liste\n",
    "a[2] # <- Le troisième\n",
    "\n",
    "# Il existe des méthodes pour enlever le dernier élément\n",
    "# ou un élément particulier, etc.\n",
    "a.pop()"
   ]
  },
  {
   "cell_type": "code",
   "execution_count": 7,
   "metadata": {
    "slideshow": {
     "slide_type": "fragment"
    }
   },
   "outputs": [
    {
     "data": {
      "text/plain": [
       "1"
      ]
     },
     "execution_count": 7,
     "metadata": {},
     "output_type": "execute_result"
    }
   ],
   "source": [
    "a.index('yo')"
   ]
  },
  {
   "cell_type": "code",
   "execution_count": 8,
   "metadata": {
    "slideshow": {
     "slide_type": "fragment"
    }
   },
   "outputs": [
    {
     "data": {
      "text/plain": [
       "[1, [1, 2, 3], 4, 23.9]"
      ]
     },
     "execution_count": 8,
     "metadata": {},
     "output_type": "execute_result"
    }
   ],
   "source": [
    "a.remove('yo')\n",
    "a"
   ]
  },
  {
   "cell_type": "code",
   "execution_count": 9,
   "metadata": {
    "slideshow": {
     "slide_type": "fragment"
    }
   },
   "outputs": [],
   "source": [
    "# Une syntaxe permet également de créer une liste non-vide :\n",
    "my_list = [1, 2, 5, 8, 12, 17]"
   ]
  },
  {
   "cell_type": "code",
   "execution_count": 10,
   "metadata": {
    "slideshow": {
     "slide_type": "fragment"
    }
   },
   "outputs": [
    {
     "name": "stdout",
     "output_type": "stream",
     "text": [
      "1\n",
      "2\n",
      "5\n",
      "8\n",
      "12\n",
      "17\n"
     ]
    }
   ],
   "source": [
    "for item in my_list:\n",
    "    print(item)"
   ]
  },
  {
   "cell_type": "markdown",
   "metadata": {
    "slideshow": {
     "slide_type": "subslide"
    }
   },
   "source": [
    "##### Chaine de caractères (str)"
   ]
  },
  {
   "cell_type": "code",
   "execution_count": 11,
   "metadata": {
    "slideshow": {
     "slide_type": "fragment"
    }
   },
   "outputs": [
    {
     "name": "stdout",
     "output_type": "stream",
     "text": [
      "<class 'str'>\n"
     ]
    }
   ],
   "source": [
    "a = \"Ceci est une chaine de caractères\"\n",
    "print(type(a))"
   ]
  },
  {
   "cell_type": "markdown",
   "metadata": {
    "slideshow": {
     "slide_type": "fragment"
    }
   },
   "source": [
    "Les objets de ce type disposent de nombreuses méthodes :"
   ]
  },
  {
   "cell_type": "code",
   "execution_count": 12,
   "metadata": {
    "slideshow": {
     "slide_type": "fragment"
    }
   },
   "outputs": [
    {
     "data": {
      "text/plain": [
       "'ceci est une chaine de caractères'"
      ]
     },
     "execution_count": 12,
     "metadata": {},
     "output_type": "execute_result"
    },
    {
     "data": {
      "text/plain": [
       "'CECI EST UNE CHAINE DE CARACTÈRES'"
      ]
     },
     "execution_count": 12,
     "metadata": {},
     "output_type": "execute_result"
    },
    {
     "data": {
      "text/plain": [
       "False"
      ]
     },
     "execution_count": 12,
     "metadata": {},
     "output_type": "execute_result"
    },
    {
     "data": {
      "text/plain": [
       "True"
      ]
     },
     "execution_count": 12,
     "metadata": {},
     "output_type": "execute_result"
    }
   ],
   "source": [
    "a.lower()\n",
    "a.upper()\n",
    "a.isdigit()\n",
    "a.isprintable()"
   ]
  },
  {
   "cell_type": "markdown",
   "metadata": {
    "slideshow": {
     "slide_type": "subslide"
    }
   },
   "source": [
    "Comme avec les listes, on peut accéder à une position particulière ou obtenir un *slice* de l'objet."
   ]
  },
  {
   "cell_type": "code",
   "execution_count": 13,
   "metadata": {
    "slideshow": {
     "slide_type": "fragment"
    }
   },
   "outputs": [
    {
     "data": {
      "text/plain": [
       "'c'"
      ]
     },
     "execution_count": 13,
     "metadata": {},
     "output_type": "execute_result"
    },
    {
     "data": {
      "text/plain": [
       "'Ceci est une'"
      ]
     },
     "execution_count": 13,
     "metadata": {},
     "output_type": "execute_result"
    },
    {
     "data": {
      "text/plain": [
       "'ci '"
      ]
     },
     "execution_count": 13,
     "metadata": {},
     "output_type": "execute_result"
    }
   ],
   "source": [
    "a[2] # La troisième lettre\n",
    "a[:12] # Jusqu'à la 12ème lettre\n",
    "a[2:5] # ..."
   ]
  },
  {
   "cell_type": "code",
   "execution_count": 14,
   "metadata": {
    "slideshow": {
     "slide_type": "subslide"
    }
   },
   "outputs": [
    {
     "name": "stdout",
     "output_type": "stream",
     "text": [
      "a\n",
      "b\n",
      "c\n",
      "d\n",
      "e\n"
     ]
    }
   ],
   "source": [
    "# À vrai dire, c'est un `iterable` comme les listes :\n",
    "for letter in \"abcde\":\n",
    "    print(letter)"
   ]
  },
  {
   "cell_type": "markdown",
   "metadata": {
    "slideshow": {
     "slide_type": "subslide"
    }
   },
   "source": [
    "##### N-uplets (tuple)\n",
    "\n",
    "Il s'agit d'un containeur immutable (contrairement à une liste on peut pas ajouter / supprimer / modifier ses éléments) qui peut contenir des objets hétérogènes.  \n",
    "Comme pour les listes, on peut utiliser les crochets pour appeler ses éléments."
   ]
  },
  {
   "cell_type": "code",
   "execution_count": 15,
   "metadata": {
    "slideshow": {
     "slide_type": "subslide"
    }
   },
   "outputs": [],
   "source": [
    "# On peut l'utiliser pour stocker des informations structurées\n",
    "# (où le N-ième élément a toujours la même signification)\n",
    "pt1 = (12.1, 34.9) # (x, y)\n",
    "pt2 = (34.4, 21.1) # (x, y)\n",
    "\n",
    "info_consumers = [\n",
    "    ('marie', 38, 21900.12), # (name, age, salary)\n",
    "    ('bob', 22, 13900.12),\n",
    "    ('alice', 48, 20900.12),\n",
    "]"
   ]
  },
  {
   "cell_type": "code",
   "execution_count": 16,
   "metadata": {
    "slideshow": {
     "slide_type": "subslide"
    }
   },
   "outputs": [
    {
     "data": {
      "text/plain": [
       "36.0"
      ]
     },
     "execution_count": 16,
     "metadata": {},
     "output_type": "execute_result"
    }
   ],
   "source": [
    "age_mean = 0\n",
    "for consumer in info_consumers:\n",
    "    age_mean += consumer[1] / len(info_consumers)\n",
    "\n",
    "age_mean"
   ]
  },
  {
   "cell_type": "markdown",
   "metadata": {
    "slideshow": {
     "slide_type": "slide"
    }
   },
   "source": [
    "##### Dictionnaire (dict)\n",
    "\n",
    "Il s'agit d'une *HashMap* (principe clé -> valeur) relativement performante, pouvant contenir des éléments hétérogènes."
   ]
  },
  {
   "cell_type": "code",
   "execution_count": 17,
   "metadata": {
    "slideshow": {
     "slide_type": "fragment"
    }
   },
   "outputs": [
    {
     "data": {
      "text/plain": [
       "{'john': '1293038', 'eva': '1204004', 'rick': '1398091'}"
      ]
     },
     "execution_count": 17,
     "metadata": {},
     "output_type": "execute_result"
    }
   ],
   "source": [
    "d1 = {}\n",
    "d1['john'] = \"1293038\"\n",
    "d1['eva'] = \"1204004\"\n",
    "d1['rick'] = \"1398091\"\n",
    "d1"
   ]
  },
  {
   "cell_type": "code",
   "execution_count": 18,
   "metadata": {
    "slideshow": {
     "slide_type": "fragment"
    }
   },
   "outputs": [
    {
     "data": {
      "text/plain": [
       "'1293038'"
      ]
     },
     "execution_count": 18,
     "metadata": {},
     "output_type": "execute_result"
    }
   ],
   "source": [
    "d1['john']"
   ]
  },
  {
   "cell_type": "code",
   "execution_count": 19,
   "metadata": {
    "slideshow": {
     "slide_type": "subslide"
    }
   },
   "outputs": [
    {
     "data": {
      "text/plain": [
       "'1398091'"
      ]
     },
     "execution_count": 19,
     "metadata": {},
     "output_type": "execute_result"
    }
   ],
   "source": [
    "# Quelques méthodes des dictionnaires :\n",
    "d1.get('rick')"
   ]
  },
  {
   "cell_type": "code",
   "execution_count": 20,
   "metadata": {
    "slideshow": {
     "slide_type": "fragment"
    }
   },
   "outputs": [
    {
     "data": {
      "text/plain": [
       "'0'"
      ]
     },
     "execution_count": 20,
     "metadata": {},
     "output_type": "execute_result"
    }
   ],
   "source": [
    "d1.get('kdgjkdgjkd', \"0\") # avec valeur par défaut si absence de la clé"
   ]
  },
  {
   "cell_type": "code",
   "execution_count": 21,
   "metadata": {
    "slideshow": {
     "slide_type": "fragment"
    }
   },
   "outputs": [
    {
     "data": {
      "text/plain": [
       "dict_keys(['john', 'eva', 'rick'])"
      ]
     },
     "execution_count": 21,
     "metadata": {},
     "output_type": "execute_result"
    }
   ],
   "source": [
    "d1.keys() # Retourne une vue des clefs du dictionnaire"
   ]
  },
  {
   "cell_type": "code",
   "execution_count": 22,
   "metadata": {
    "slideshow": {
     "slide_type": "fragment"
    }
   },
   "outputs": [
    {
     "data": {
      "text/plain": [
       "dict_values(['1293038', '1204004', '1398091'])"
      ]
     },
     "execution_count": 22,
     "metadata": {},
     "output_type": "execute_result"
    }
   ],
   "source": [
    "d1.values() # Retourne une vue des valeurs du dictionnaire"
   ]
  },
  {
   "cell_type": "code",
   "execution_count": 23,
   "metadata": {
    "slideshow": {
     "slide_type": "fragment"
    }
   },
   "outputs": [
    {
     "name": "stdout",
     "output_type": "stream",
     "text": [
      "{'john': '1293038', 'eva': '1204004', 'rick': '1398091', 'alice': '129874', 'alex': '2100012'}\n"
     ]
    }
   ],
   "source": [
    "# Fusion avec un autre dictionnaire\n",
    "d1.update({'alice': '129874', 'alex': '2100012'})\n",
    "print(d1)"
   ]
  },
  {
   "cell_type": "code",
   "execution_count": 24,
   "metadata": {
    "slideshow": {
     "slide_type": "subslide"
    }
   },
   "outputs": [
    {
     "data": {
      "text/plain": [
       "False"
      ]
     },
     "execution_count": 24,
     "metadata": {},
     "output_type": "execute_result"
    }
   ],
   "source": [
    "# Tester la présence d'une clé :\n",
    "'matt' in d1"
   ]
  },
  {
   "cell_type": "code",
   "execution_count": 25,
   "metadata": {
    "slideshow": {
     "slide_type": "fragment"
    }
   },
   "outputs": [
    {
     "ename": "KeyError",
     "evalue": "'matt'",
     "output_type": "error",
     "traceback": [
      "\u001b[0;31m---------------------------------------------------------------------------\u001b[0m",
      "\u001b[0;31mKeyError\u001b[0m                                  Traceback (most recent call last)",
      "\u001b[0;32m<ipython-input-25-06a69f48afe9>\u001b[0m in \u001b[0;36m<module>\u001b[0;34m\u001b[0m\n\u001b[0;32m----> 1\u001b[0;31m \u001b[0md1\u001b[0m\u001b[0;34m[\u001b[0m\u001b[0;34m'matt'\u001b[0m\u001b[0;34m]\u001b[0m \u001b[0;31m# <- oh no !\u001b[0m\u001b[0;34m\u001b[0m\u001b[0;34m\u001b[0m\u001b[0m\n\u001b[0m",
      "\u001b[0;31mKeyError\u001b[0m: 'matt'"
     ]
    }
   ],
   "source": [
    "d1['matt'] # <- oh no !"
   ]
  },
  {
   "cell_type": "markdown",
   "metadata": {
    "slideshow": {
     "slide_type": "slide"
    }
   },
   "source": [
    "##### Erreur (Exception)"
   ]
  },
  {
   "cell_type": "code",
   "execution_count": 26,
   "metadata": {
    "slideshow": {
     "slide_type": "fragment"
    }
   },
   "outputs": [
    {
     "name": "stdout",
     "output_type": "stream",
     "text": [
      "'bob' is missing 0_0\n",
      "We safely escaped from here !\n"
     ]
    }
   ],
   "source": [
    "try:\n",
    "    # Le bloc de code à 'surveiller' :\n",
    "    print(d1['bob'])\n",
    "    \n",
    "except KeyError as e:\n",
    "    # Si l'erreur rencontrée est de type `KeyError`\n",
    "    print('{} is missing 0_0'.format(e))\n",
    "\n",
    "except Exception:\n",
    "    # Si un autre type d'erreur est survenu\n",
    "    print('Something else happened...')\n",
    "    \n",
    "else:\n",
    "    # Si aucune erreur ne s'est produite\n",
    "    print('doo')\n",
    "\n",
    "finally:\n",
    "    # Ce bloc est exécuté dans tous les cas\n",
    "    print('We safely escaped from here !')"
   ]
  },
  {
   "cell_type": "code",
   "execution_count": 27,
   "metadata": {
    "slideshow": {
     "slide_type": "subslide"
    }
   },
   "outputs": [
    {
     "ename": "UnrecoverableError",
     "evalue": "Where is bob ?",
     "output_type": "error",
     "traceback": [
      "\u001b[0;31m---------------------------------------------------------------------------\u001b[0m",
      "\u001b[0;31mUnrecoverableError\u001b[0m                        Traceback (most recent call last)",
      "\u001b[0;32m<ipython-input-27-f5dcca34a3b6>\u001b[0m in \u001b[0;36m<module>\u001b[0;34m\u001b[0m\n\u001b[1;32m      5\u001b[0m     \u001b[0;31m# Déclenchement de cette erreur\u001b[0m\u001b[0;34m\u001b[0m\u001b[0;34m\u001b[0m\u001b[0;34m\u001b[0m\u001b[0m\n\u001b[1;32m      6\u001b[0m     \u001b[0;31m# (en utilisant un message explicatif)\u001b[0m\u001b[0;34m\u001b[0m\u001b[0;34m\u001b[0m\u001b[0;34m\u001b[0m\u001b[0m\n\u001b[0;32m----> 7\u001b[0;31m     \u001b[0;32mraise\u001b[0m \u001b[0mUnrecoverableError\u001b[0m\u001b[0;34m(\u001b[0m\u001b[0;34m'Where is bob ?'\u001b[0m\u001b[0;34m)\u001b[0m\u001b[0;34m\u001b[0m\u001b[0;34m\u001b[0m\u001b[0m\n\u001b[0m",
      "\u001b[0;31mUnrecoverableError\u001b[0m: Where is bob ?"
     ]
    }
   ],
   "source": [
    "# Création d'un type d'erreur personnalisé\n",
    "class UnrecoverableError(Exception): pass\n",
    "\n",
    "if not 'bob' in d1:\n",
    "    # Déclenchement de cette erreur\n",
    "    # (en utilisant un message explicatif)\n",
    "    raise UnrecoverableError('Where is bob ?')"
   ]
  },
  {
   "cell_type": "markdown",
   "metadata": {
    "slideshow": {
     "slide_type": "slide"
    }
   },
   "source": [
    "##### Ensemble (set)"
   ]
  },
  {
   "cell_type": "code",
   "execution_count": 28,
   "metadata": {
    "slideshow": {
     "slide_type": "fragment"
    }
   },
   "outputs": [
    {
     "name": "stdout",
     "output_type": "stream",
     "text": [
      "5 éléments uniques : [1, 2, 4, 5, 9]\n"
     ]
    }
   ],
   "source": [
    "seen = set()\n",
    "\n",
    "for item in [1, 2, 4, 1, 5, 2, 9, 4, 1, 9]:\n",
    "    seen.add(item)\n",
    "\n",
    "print('{} éléments uniques : {}'.format(len(seen), list(seen)))"
   ]
  },
  {
   "cell_type": "code",
   "execution_count": 29,
   "metadata": {
    "slideshow": {
     "slide_type": "subslide"
    }
   },
   "outputs": [
    {
     "data": {
      "text/plain": [
       "{'bob'}"
      ]
     },
     "execution_count": 29,
     "metadata": {},
     "output_type": "execute_result"
    },
    {
     "data": {
      "text/plain": [
       "False"
      ]
     },
     "execution_count": 29,
     "metadata": {},
     "output_type": "execute_result"
    },
    {
     "data": {
      "text/plain": [
       "{'alex', 'alice', 'eva', 'john', 'rick'}"
      ]
     },
     "execution_count": 29,
     "metadata": {},
     "output_type": "execute_result"
    }
   ],
   "source": [
    "s1 = {'rick', 'bob', 'alice', 'alex'}\n",
    "s2 = {'john', 'eva', 'bob'}\n",
    "\n",
    "# Des méthodes intéressantes\n",
    "s1.intersection(s2) # -> {'bob'}\n",
    "s2.issubset(s1) # -> False\n",
    "s1.symmetric_difference(s2) # -> {'alex', 'alice', 'eva', 'john', 'rick'}"
   ]
  },
  {
   "cell_type": "markdown",
   "metadata": {
    "slideshow": {
     "slide_type": "slide"
    }
   },
   "source": [
    "##### Et les autres...\n",
    "\n",
    "Une dizaine d'autres types natifs existent. Ils sont parfois manipulés de manière moins explicite (ou moins souvent!)"
   ]
  },
  {
   "cell_type": "code",
   "execution_count": 30,
   "metadata": {
    "slideshow": {
     "slide_type": "subslide"
    }
   },
   "outputs": [
    {
     "name": "stdout",
     "output_type": "stream",
     "text": [
      "<class 'frozenset'>\n"
     ]
    },
    {
     "data": {
      "text/plain": [
       "True"
      ]
     },
     "execution_count": 30,
     "metadata": {},
     "output_type": "execute_result"
    },
    {
     "data": {
      "text/plain": [
       "False"
      ]
     },
     "execution_count": 30,
     "metadata": {},
     "output_type": "execute_result"
    }
   ],
   "source": [
    "fset = frozenset(seen) # <- Un `set` auquel on ne pourra plus ajouter d'éléments\n",
    "print(type(fset))\n",
    "1 in fset  # Utile pour vérifier l'absence ou la présence d'un élément par exemple\n",
    "12 in fset # ... et rapide"
   ]
  },
  {
   "cell_type": "markdown",
   "metadata": {
    "slideshow": {
     "slide_type": "slide"
    }
   },
   "source": [
    "**Rappel** : *tout est objet* en Python"
   ]
  },
  {
   "cell_type": "code",
   "execution_count": 31,
   "metadata": {
    "slideshow": {
     "slide_type": "subslide"
    }
   },
   "outputs": [
    {
     "data": {
      "text/plain": [
       "True"
      ]
     },
     "execution_count": 31,
     "metadata": {},
     "output_type": "execute_result"
    },
    {
     "data": {
      "text/plain": [
       "True"
      ]
     },
     "execution_count": 31,
     "metadata": {},
     "output_type": "execute_result"
    },
    {
     "data": {
      "text/plain": [
       "True"
      ]
     },
     "execution_count": 31,
     "metadata": {},
     "output_type": "execute_result"
    },
    {
     "data": {
      "text/plain": [
       "True"
      ]
     },
     "execution_count": 31,
     "metadata": {},
     "output_type": "execute_result"
    },
    {
     "data": {
      "text/plain": [
       "True"
      ]
     },
     "execution_count": 31,
     "metadata": {},
     "output_type": "execute_result"
    }
   ],
   "source": [
    "isinstance(33, int)\n",
    "isinstance(int, type)\n",
    "isinstance(int, object)\n",
    "isinstance(type, object)\n",
    "\n",
    "issubclass(int, object)"
   ]
  },
  {
   "cell_type": "markdown",
   "metadata": {
    "slideshow": {
     "slide_type": "subslide"
    }
   },
   "source": [
    "### Les fonctions natives\n",
    "\n",
    "- `isinstance(33, int)     # -> True`\n",
    "- `len([1, 2, 3])          # -> 3`\n",
    "- `type(33)                # -> int`"
   ]
  },
  {
   "cell_type": "markdown",
   "metadata": {
    "slideshow": {
     "slide_type": "subslide"
    }
   },
   "source": [
    "- `dir()` pour connaitre l'ensemble des attributs d'un objets directement dans l'interpréteur"
   ]
  },
  {
   "cell_type": "code",
   "execution_count": 32,
   "metadata": {
    "slideshow": {
     "slide_type": "fragment"
    }
   },
   "outputs": [
    {
     "name": "stdout",
     "output_type": "stream",
     "text": [
      "['__add__', '__class__', '__contains__', '__delattr__', '__delitem__', '__dir__', '__doc__', '__eq__', '__format__', '__ge__', '__getattribute__', '__getitem__', '__gt__', '__hash__', '__iadd__', '__imul__', '__init__', '__init_subclass__', '__iter__', '__le__', '__len__', '__lt__', '__mul__', '__ne__', '__new__', '__reduce__', '__reduce_ex__', '__repr__', '__reversed__', '__rmul__', '__setattr__', '__setitem__', '__sizeof__', '__str__', '__subclasshook__', 'append', 'clear', 'copy', 'count', 'extend', 'index', 'insert', 'pop', 'remove', 'reverse', 'sort']\n"
     ]
    }
   ],
   "source": [
    "li = [1, 2, 3]\n",
    "print(dir(li))"
   ]
  },
  {
   "cell_type": "markdown",
   "metadata": {
    "slideshow": {
     "slide_type": "slide"
    }
   },
   "source": [
    "### Contrôle du flux d'éxecution, comparaison, etc."
   ]
  },
  {
   "cell_type": "code",
   "execution_count": 33,
   "metadata": {
    "slideshow": {
     "slide_type": "subslide"
    }
   },
   "outputs": [
    {
     "name": "stdout",
     "output_type": "stream",
     "text": [
      "['john', 'eva', 'rick', 'alice', 'alex']\n",
      "...\n",
      "Oh hi Eva!\n",
      "...\n",
      "...\n",
      "...\n"
     ]
    }
   ],
   "source": [
    "# Still looking for Bob !\n",
    "\n",
    "my_list = list(d1.keys())\n",
    "print(my_list)\n",
    "\n",
    "for name in my_list:\n",
    "    name_lower = name.lower()\n",
    "    if name_lower == 'bob':\n",
    "        print('Finally you\\'re here..!')\n",
    "    elif name_lower == 'eva':\n",
    "        print('Oh hi Eva!')\n",
    "    else:\n",
    "        print('...')"
   ]
  },
  {
   "cell_type": "code",
   "execution_count": 34,
   "metadata": {
    "slideshow": {
     "slide_type": "subslide"
    }
   },
   "outputs": [
    {
     "data": {
      "text/plain": [
       "[{'name': 'john', 'age': None, 'salary': 0},\n",
       " {'name': 'eva', 'age': None, 'salary': 0},\n",
       " {'name': 'rick', 'age': None, 'salary': 0},\n",
       " {'name': 'alice', 'age': None, 'salary': 0},\n",
       " {'name': 'alex', 'age': 33, 'salary': 0}]"
      ]
     },
     "execution_count": 34,
     "metadata": {},
     "output_type": "execute_result"
    }
   ],
   "source": [
    "def create_empty_consumer_info(names):\n",
    "    result = []\n",
    "    for name in names:\n",
    "        result.append({\n",
    "          \"name\": name, \"age\": None, \"salary\": 0  \n",
    "        })\n",
    "    return result\n",
    "\n",
    "\n",
    "def set_age(info_consumers, name, age):\n",
    "    for info in info_consumers:\n",
    "        if info['name'] == name:\n",
    "            info['age'] = age\n",
    "\n",
    "\n",
    "infos = create_empty_consumer_info(my_list)\n",
    "set_age(infos, 'alex', 33)\n",
    "infos"
   ]
  },
  {
   "cell_type": "code",
   "execution_count": 35,
   "metadata": {
    "slideshow": {
     "slide_type": "subslide"
    }
   },
   "outputs": [
    {
     "data": {
      "text/plain": [
       "[{'name': 'john', 'age': None, 'salary': 0},\n",
       " {'name': 'eva', 'age': None, 'salary': 0},\n",
       " {'name': 'rick', 'age': None, 'salary': 0},\n",
       " {'name': 'alice', 'age': None, 'salary': 0},\n",
       " {'name': 'alex', 'age': 22, 'salary': 0}]"
      ]
     },
     "execution_count": 35,
     "metadata": {},
     "output_type": "execute_result"
    }
   ],
   "source": [
    "# Avec une approche plus 'fonctionnelle' ?\n",
    "infos = list(map(lambda x: {\"name\": x, \"age\": None, \"salary\": 0}, my_list))\n",
    "\n",
    "# Utilisation de la fonction précédement définie\n",
    "set_age(infos, 'alex', 22)\n",
    "infos"
   ]
  },
  {
   "cell_type": "code",
   "execution_count": 36,
   "metadata": {
    "slideshow": {
     "slide_type": "subslide"
    }
   },
   "outputs": [
    {
     "data": {
      "text/plain": [
       "[{'name': 'john', 'age': None, 'salary': 0},\n",
       " {'name': 'eva', 'age': None, 'salary': 0},\n",
       " {'name': 'rick', 'age': None, 'salary': 0},\n",
       " {'name': 'alice', 'age': None, 'salary': 0},\n",
       " {'name': 'alex', 'age': 107, 'salary': 0}]"
      ]
     },
     "execution_count": 36,
     "metadata": {},
     "output_type": "execute_result"
    }
   ],
   "source": [
    "# Une approche plus fonctionnelle et plus pythonique ?\n",
    "infos = [{\"name\": x, \"age\": None, \"salary\": 0} for x in my_list]\n",
    "\n",
    "# En utilisant le même type d'approche pour modifier un élément spécifique\n",
    "[i for i in infos if i['name'] == 'alex'][0]['age'] = 107\n",
    "infos"
   ]
  },
  {
   "cell_type": "code",
   "execution_count": 37,
   "metadata": {
    "slideshow": {
     "slide_type": "subslide"
    }
   },
   "outputs": [
    {
     "data": {
      "text/plain": [
       "[Consumer john. age : None. salary : 0\n",
       "Consumer eva. age : None. salary : 0\n",
       "Consumer rick. age : None. salary : 0\n",
       "Consumer alice. age : None. salary : 0\n",
       "Consumer alex. age : 43. salary : 0]"
      ]
     },
     "execution_count": 37,
     "metadata": {},
     "output_type": "execute_result"
    }
   ],
   "source": [
    "# Un rapide aperçu de l'approche orientée objet ?\n",
    "\n",
    "class Consumer:\n",
    "    def __init__(self, name, age=None, salary='0'):\n",
    "        self.name = name\n",
    "        self.age = age\n",
    "        self.salary = salary\n",
    "\n",
    "    def __repr__(self):\n",
    "        return 'Consumer {}. age : {}. salary : {}'.format(self.name, self.age, self.salary)\n",
    "\n",
    "    \n",
    "class ConsumerInfos:\n",
    "    def __init__(self, consumers):\n",
    "        self.consumers = {c.name: c for c in consumers}\n",
    "        \n",
    "    def get_by_name(self, name):\n",
    "        return self.consumers[name]\n",
    "\n",
    "    def __repr__(self):\n",
    "        return ''.join(['[','\\n'.join(str(c) for c in self.consumers.values()),']'])\n",
    "\n",
    "\n",
    "infos = ConsumerInfos(Consumer(name) for name in my_list)\n",
    "infos.get_by_name('alex').age = 43\n",
    "infos"
   ]
  },
  {
   "cell_type": "markdown",
   "metadata": {
    "slideshow": {
     "slide_type": "slide"
    }
   },
   "source": [
    "### Bloc d'instructions et indentation"
   ]
  },
  {
   "cell_type": "markdown",
   "metadata": {
    "slideshow": {
     "slide_type": "subslide"
    }
   },
   "source": [
    "## L'indentation !"
   ]
  },
  {
   "cell_type": "code",
   "execution_count": 38,
   "metadata": {
    "slideshow": {
     "slide_type": "fragment"
    }
   },
   "outputs": [
    {
     "ename": "IndentationError",
     "evalue": "expected an indented block (<ipython-input-38-7d74bf765d5d>, line 6)",
     "output_type": "error",
     "traceback": [
      "\u001b[0;36m  File \u001b[0;32m\"<ipython-input-38-7d74bf765d5d>\"\u001b[0;36m, line \u001b[0;32m6\u001b[0m\n\u001b[0;31m    print('Not 38 ..')\u001b[0m\n\u001b[0m        ^\u001b[0m\n\u001b[0;31mIndentationError\u001b[0m\u001b[0;31m:\u001b[0m expected an indented block\n"
     ]
    }
   ],
   "source": [
    "li = [1, 2, 3]\n",
    "for item in li:\n",
    "    if item == 38:\n",
    "        print('38 !!!!')\n",
    "    else:\n",
    "    print('Not 38 ..')"
   ]
  },
  {
   "cell_type": "markdown",
   "metadata": {
    "slideshow": {
     "slide_type": "subslide"
    }
   },
   "source": [
    "- Respecter les règles d'identations est nécessaire (comprendre *obligatoire*) en Python.\n",
    "\n",
    "- Ce n'est pas une _contrainte_ lors d'une session de travail car les IDE guident la position du curseur.\n",
    "\n",
    "- Cette indentation a un rôle direct sur le contrôle du flux d'éxecution.\n",
    "\n",
    "- Elle permet d'éviter l'utilisation de *crochets* pour délimiter les blocs et de *point-virgules* pour délimiter les instructions."
   ]
  },
  {
   "cell_type": "code",
   "execution_count": 39,
   "metadata": {
    "slideshow": {
     "slide_type": "subslide"
    }
   },
   "outputs": [
    {
     "name": "stdout",
     "output_type": "stream",
     "text": [
      "[627]\n"
     ]
    }
   ],
   "source": [
    "# Ce code est volontairement incorrect /!\\\n",
    "\n",
    "result = []\n",
    "li1 = [1, 2, 3, 4, 5, 6]\n",
    "li2 = [4, 20, 31, 87, 123, 621]\n",
    "\n",
    "# Ajoutons 1 à chaque élément\n",
    "for item1, item2 in zip(li1, li2):\n",
    "    new_item = item1 + item2\n",
    "result.append(new_item)\n",
    "# Cette instruction est éxécutée une seule fois\n",
    "# après que l'ensemble des itération de la boucle ai été effectué\n",
    "\n",
    "print(result)"
   ]
  },
  {
   "cell_type": "code",
   "execution_count": 40,
   "metadata": {
    "slideshow": {
     "slide_type": "subslide"
    }
   },
   "outputs": [
    {
     "name": "stdout",
     "output_type": "stream",
     "text": [
      "[5, 22, 34, 91, 128, 627]\n"
     ]
    }
   ],
   "source": [
    "result = []\n",
    "li1 = [1, 2, 3, 4, 5, 6]\n",
    "li2 = [4, 20, 31, 87, 123, 621]\n",
    "\n",
    "# Ajoutons 1 à chaque élément\n",
    "for item1, item2 in zip(li1, li2):\n",
    "    new_item = item1 + item2\n",
    "    result.append(new_item)\n",
    "    # Cette instruction est éxécutée à\n",
    "    # chaque itération de la boucle.\n",
    "\n",
    "print(result)"
   ]
  },
  {
   "cell_type": "markdown",
   "metadata": {
    "slideshow": {
     "slide_type": "slide"
    }
   },
   "source": [
    "### Communauté, packages, documentation, etc."
   ]
  },
  {
   "cell_type": "markdown",
   "metadata": {
    "slideshow": {
     "slide_type": "subslide"
    }
   },
   "source": [
    "La communauté Python compte de nombreux membres (c'est un des langages les plus en vogue [1](https://insights.stackoverflow.com/survey/2018#technology), [2](https://stackoverflow.blog/2017/09/06/incredible-growth-python/)), dans des thématiques variées (géospatial, astronomie, bio-informatique, etc.).  \n",
    "\n",
    "En plus de sa facilité d'apprentissage, la polyvalence du langage est une des raison de sa forte utilisation : il est facile d'utiliser le Python pour écrire des tests pour une bibliothèque d'un autre langage ou pour faire la \"glue\" entre plusieurs composants d'un système.\n",
    "\n",
    "\n",
    "1 : https://insights.stackoverflow.com/survey/2018#technology  \n",
    "2 : https://stackoverflow.blog/2017/09/06/incredible-growth-python/"
   ]
  },
  {
   "cell_type": "markdown",
   "metadata": {
    "slideshow": {
     "slide_type": "subslide"
    }
   },
   "source": [
    "La gestion des packages se fait via l'utilitaire `pip`.  \n",
    "Contrairement à `R` où les bibliothèques sont généralement installées depuis l'interpréteur du langage, en Python elles sont installées depuis le terminal du système d'exploitation.  \n",
    "\n",
    "Les bibliothèques disponible via `pip` sont celle du Python Package Index : **PyPI** : https://pypi.org/.  \n",
    "\n",
    "Contrairement au **CRAN**, il s'agit d'un index non-supervisé et dans une certaine mesure on en restera conscient lorsqu'on l'utilise (risque de *typosquatting*, etc.).  \n",
    "Ce risque est toutefois très fortement réduit lors de l'utilisation du *package manager* d'une distribution Python telle qu'**Anaconda** ou **Canopy** qui seront présentées ensuite."
   ]
  },
  {
   "cell_type": "markdown",
   "metadata": {
    "slideshow": {
     "slide_type": "subslide"
    }
   },
   "source": [
    "**Utilisation basique :**\n",
    "\n",
    "```sh\n",
    "pip install numpy\n",
    "```\n",
    "\n",
    "Si plusieurs installations de Python sont présentes sur le système d'exploitation (généralement sur GNU/Linux), il pourra être nécessaire de préciser pour laquelle on souhaite voir l'action réalisée: \n",
    "\n",
    "```sh\n",
    "pip3 install numpy\n",
    "```\n",
    "\n",
    "L'utilitaire `pip` peut également être utilisé pour installer du code depuis un *repository* git ou depuis un dossier local par exemple.\n",
    "\n",
    "```sh\n",
    "pip install git+https://github.com/user/repo.git@branch\n",
    "```\n",
    "\n",
    "Spécifier avec précision la version d'une bibliothèque à installer :\n",
    "\n",
    "```sh\n",
    "pip install pandas==0.23.4\n",
    "```\n",
    "\n",
    "Supprimer une bibliothèque installée :\n",
    "```sh\n",
    "pip uninstall pandas\n",
    "```\n"
   ]
  },
  {
   "cell_type": "markdown",
   "metadata": {
    "slideshow": {
     "slide_type": "subslide"
    }
   },
   "source": [
    "La **documentation officielle Python** est très agréable, complète (documentation de l'ensemble des fonctions natives et de l'ensemble des modules de la biliothèques standard, exemples, tutoriels, documentations pour les développeurs, etc.) et est **disponible en français**.\n",
    "\n",
    "<img src=\"img/python_documentation.png\" style=\"height: 400px; width: auto;\"/>\n",
    "\n",
    "Elle est générée avec [Sphinx](http://www.sphinx-doc.org/), outil développé à l'origine pour générer cette documentation, et dont la maturité lui permet d'être utilisé pour générer la documentation de différents type de projet informatique."
   ]
  }
 ],
 "metadata": {
  "celltoolbar": "Diaporama",
  "kernelspec": {
   "display_name": "Python 3",
   "language": "python",
   "name": "python3"
  },
  "language_info": {
   "codemirror_mode": {
    "name": "ipython",
    "version": 3
   },
   "file_extension": ".py",
   "mimetype": "text/x-python",
   "name": "python",
   "nbconvert_exporter": "python",
   "pygments_lexer": "ipython3",
   "version": "3.6.7"
  }
 },
 "nbformat": 4,
 "nbformat_minor": 2
}
